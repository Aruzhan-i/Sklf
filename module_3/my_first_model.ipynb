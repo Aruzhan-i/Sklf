{
 "cells": [
  {
   "cell_type": "markdown",
   "metadata": {},
   "source": [
    "# Загрузка Pandas и очистка данных"
   ]
  },
  {
   "cell_type": "code",
   "execution_count": 1,
   "metadata": {},
   "outputs": [],
   "source": [
    "import pandas as pd\n",
    "from datetime import datetime, timedelta\n",
    "import re \n",
    "import numpy as np\n",
    "import seaborn as sns \n"
   ]
  },
  {
   "cell_type": "code",
   "execution_count": 2,
   "metadata": {},
   "outputs": [],
   "source": [
    "df = pd.read_csv('main_task_new.csv')"
   ]
  },
  {
   "cell_type": "code",
   "execution_count": 3,
   "metadata": {
    "scrolled": true
   },
   "outputs": [
    {
     "data": {
      "text/html": [
       "<div>\n",
       "<style scoped>\n",
       "    .dataframe tbody tr th:only-of-type {\n",
       "        vertical-align: middle;\n",
       "    }\n",
       "\n",
       "    .dataframe tbody tr th {\n",
       "        vertical-align: top;\n",
       "    }\n",
       "\n",
       "    .dataframe thead th {\n",
       "        text-align: right;\n",
       "    }\n",
       "</style>\n",
       "<table border=\"1\" class=\"dataframe\">\n",
       "  <thead>\n",
       "    <tr style=\"text-align: right;\">\n",
       "      <th></th>\n",
       "      <th>Restaurant_id</th>\n",
       "      <th>City</th>\n",
       "      <th>Cuisine Style</th>\n",
       "      <th>Ranking</th>\n",
       "      <th>Rating</th>\n",
       "      <th>Price Range</th>\n",
       "      <th>Number of Reviews</th>\n",
       "      <th>Reviews</th>\n",
       "      <th>URL_TA</th>\n",
       "      <th>ID_TA</th>\n",
       "    </tr>\n",
       "  </thead>\n",
       "  <tbody>\n",
       "    <tr>\n",
       "      <th>0</th>\n",
       "      <td>id_5569</td>\n",
       "      <td>Paris</td>\n",
       "      <td>['European', 'French', 'International']</td>\n",
       "      <td>5570.0</td>\n",
       "      <td>3.5</td>\n",
       "      <td>$$ - $$$</td>\n",
       "      <td>194.0</td>\n",
       "      <td>[['Good food at your doorstep', 'A good hotel ...</td>\n",
       "      <td>/Restaurant_Review-g187147-d1912643-Reviews-R_...</td>\n",
       "      <td>d1912643</td>\n",
       "    </tr>\n",
       "    <tr>\n",
       "      <th>1</th>\n",
       "      <td>id_1535</td>\n",
       "      <td>Stockholm</td>\n",
       "      <td>NaN</td>\n",
       "      <td>1537.0</td>\n",
       "      <td>4.0</td>\n",
       "      <td>NaN</td>\n",
       "      <td>10.0</td>\n",
       "      <td>[['Unique cuisine', 'Delicious Nepalese food']...</td>\n",
       "      <td>/Restaurant_Review-g189852-d7992032-Reviews-Bu...</td>\n",
       "      <td>d7992032</td>\n",
       "    </tr>\n",
       "    <tr>\n",
       "      <th>2</th>\n",
       "      <td>id_352</td>\n",
       "      <td>London</td>\n",
       "      <td>['Japanese', 'Sushi', 'Asian', 'Grill', 'Veget...</td>\n",
       "      <td>353.0</td>\n",
       "      <td>4.5</td>\n",
       "      <td>$$$$</td>\n",
       "      <td>688.0</td>\n",
       "      <td>[['Catch up with friends', 'Not exceptional'],...</td>\n",
       "      <td>/Restaurant_Review-g186338-d8632781-Reviews-RO...</td>\n",
       "      <td>d8632781</td>\n",
       "    </tr>\n",
       "    <tr>\n",
       "      <th>3</th>\n",
       "      <td>id_3456</td>\n",
       "      <td>Berlin</td>\n",
       "      <td>NaN</td>\n",
       "      <td>3458.0</td>\n",
       "      <td>5.0</td>\n",
       "      <td>NaN</td>\n",
       "      <td>3.0</td>\n",
       "      <td>[[], []]</td>\n",
       "      <td>/Restaurant_Review-g187323-d1358776-Reviews-Es...</td>\n",
       "      <td>d1358776</td>\n",
       "    </tr>\n",
       "    <tr>\n",
       "      <th>4</th>\n",
       "      <td>id_615</td>\n",
       "      <td>Munich</td>\n",
       "      <td>['German', 'Central European', 'Vegetarian Fri...</td>\n",
       "      <td>621.0</td>\n",
       "      <td>4.0</td>\n",
       "      <td>$$ - $$$</td>\n",
       "      <td>84.0</td>\n",
       "      <td>[['Best place to try a Bavarian food', 'Nice b...</td>\n",
       "      <td>/Restaurant_Review-g187309-d6864963-Reviews-Au...</td>\n",
       "      <td>d6864963</td>\n",
       "    </tr>\n",
       "  </tbody>\n",
       "</table>\n",
       "</div>"
      ],
      "text/plain": [
       "  Restaurant_id       City                                      Cuisine Style  \\\n",
       "0       id_5569      Paris            ['European', 'French', 'International']   \n",
       "1       id_1535  Stockholm                                                NaN   \n",
       "2        id_352     London  ['Japanese', 'Sushi', 'Asian', 'Grill', 'Veget...   \n",
       "3       id_3456     Berlin                                                NaN   \n",
       "4        id_615     Munich  ['German', 'Central European', 'Vegetarian Fri...   \n",
       "\n",
       "   Ranking  Rating Price Range  Number of Reviews  \\\n",
       "0   5570.0     3.5    $$ - $$$              194.0   \n",
       "1   1537.0     4.0         NaN               10.0   \n",
       "2    353.0     4.5        $$$$              688.0   \n",
       "3   3458.0     5.0         NaN                3.0   \n",
       "4    621.0     4.0    $$ - $$$               84.0   \n",
       "\n",
       "                                             Reviews  \\\n",
       "0  [['Good food at your doorstep', 'A good hotel ...   \n",
       "1  [['Unique cuisine', 'Delicious Nepalese food']...   \n",
       "2  [['Catch up with friends', 'Not exceptional'],...   \n",
       "3                                           [[], []]   \n",
       "4  [['Best place to try a Bavarian food', 'Nice b...   \n",
       "\n",
       "                                              URL_TA     ID_TA  \n",
       "0  /Restaurant_Review-g187147-d1912643-Reviews-R_...  d1912643  \n",
       "1  /Restaurant_Review-g189852-d7992032-Reviews-Bu...  d7992032  \n",
       "2  /Restaurant_Review-g186338-d8632781-Reviews-RO...  d8632781  \n",
       "3  /Restaurant_Review-g187323-d1358776-Reviews-Es...  d1358776  \n",
       "4  /Restaurant_Review-g187309-d6864963-Reviews-Au...  d6864963  "
      ]
     },
     "execution_count": 3,
     "metadata": {},
     "output_type": "execute_result"
    }
   ],
   "source": [
    "df.head()"
   ]
  },
  {
   "cell_type": "code",
   "execution_count": 4,
   "metadata": {
    "scrolled": false
   },
   "outputs": [
    {
     "name": "stdout",
     "output_type": "stream",
     "text": [
      "<class 'pandas.core.frame.DataFrame'>\n",
      "RangeIndex: 40000 entries, 0 to 39999\n",
      "Data columns (total 10 columns):\n",
      " #   Column             Non-Null Count  Dtype  \n",
      "---  ------             --------------  -----  \n",
      " 0   Restaurant_id      40000 non-null  object \n",
      " 1   City               40000 non-null  object \n",
      " 2   Cuisine Style      30717 non-null  object \n",
      " 3   Ranking            40000 non-null  float64\n",
      " 4   Rating             40000 non-null  float64\n",
      " 5   Price Range        26114 non-null  object \n",
      " 6   Number of Reviews  37457 non-null  float64\n",
      " 7   Reviews            40000 non-null  object \n",
      " 8   URL_TA             40000 non-null  object \n",
      " 9   ID_TA              40000 non-null  object \n",
      "dtypes: float64(3), object(7)\n",
      "memory usage: 3.1+ MB\n"
     ]
    }
   ],
   "source": [
    "df.info()"
   ]
  },
  {
   "cell_type": "markdown",
   "metadata": {},
   "source": [
    "Подробнее по признакам:\n",
    "\n",
    "- City: Город\n",
    "- Cuisine Style: Кухня\n",
    "- Ranking: Ранг ресторана относительно других ресторанов в этом городе\n",
    "- Price Range: Цены в ресторане в 3 категориях\n",
    "- Number of Reviews: Количество отзывов\n",
    "- Reviews: 2 последних отзыва и даты этих отзывов\n",
    "- URL_TA: страница ресторана на 'www.tripadvisor.com'\n",
    "- ID_TA: ID ресторана в TripAdvisor\n",
    "- Rating: Рейтинг ресторана"
   ]
  },
  {
   "cell_type": "code",
   "execution_count": 5,
   "metadata": {},
   "outputs": [
    {
     "name": "stdout",
     "output_type": "stream",
     "text": [
      "Дубликатов найдено: 0\n"
     ]
    }
   ],
   "source": [
    "# find if there were any duplicates in the data\n",
    "print(\"Дубликатов найдено:\", df.duplicated(keep=False).sum())"
   ]
  },
  {
   "cell_type": "code",
   "execution_count": 6,
   "metadata": {},
   "outputs": [],
   "source": [
    "# drop the unuseful columns\n",
    "df.drop(['URL_TA', 'ID_TA'], axis=1, inplace=True)"
   ]
  },
  {
   "cell_type": "markdown",
   "metadata": {},
   "source": [
    "## Number of Reviews"
   ]
  },
  {
   "cell_type": "code",
   "execution_count": 7,
   "metadata": {
    "scrolled": true
   },
   "outputs": [
    {
     "data": {
      "text/plain": [
       "<matplotlib.axes._subplots.AxesSubplot at 0x7f6005480c40>"
      ]
     },
     "execution_count": 7,
     "metadata": {},
     "output_type": "execute_result"
    },
    {
     "data": {
      "image/png": "[encoded data removed]",
      "text/plain": [
       "<Figure size 432x288 with 1 Axes>"
      ]
     },
     "metadata": {
      "needs_background": "light"
     },
     "output_type": "display_data"
    }
   ],
   "source": [
    "# look at the Number of Reviews outliers\n",
    "sns.boxplot(df['Number of Reviews'])"
   ]
  },
  {
   "cell_type": "code",
   "execution_count": 8,
   "metadata": {},
   "outputs": [],
   "source": [
    "# according to the boxplot it seems that values higher than 5000 are real outliers\n",
    "# fill outlier values with 5000\n",
    "df['Number of Reviews'] = df['Number of Reviews'].apply(lambda x: 5000 if x>5000 else x)"
   ]
  },
  {
   "cell_type": "code",
   "execution_count": 9,
   "metadata": {},
   "outputs": [],
   "source": [
    "# fill Nan values with the mean value of Cities\n",
    "df['Number of Reviews'] = df.groupby(\"City\")['Number of Reviews'].apply(lambda x: x.fillna(round(x.median())))"
   ]
  },
  {
   "cell_type": "markdown",
   "metadata": {},
   "source": [
    "## Cuisine Style"
   ]
  },
  {
   "cell_type": "code",
   "execution_count": 10,
   "metadata": {},
   "outputs": [],
   "source": [
    "# add new column with the number of types of Cuisine\n",
    "df['Cuisine Style'] = df['Cuisine Style'].str.replace(\"[\", \"\")\n",
    "df['Cuisine Style'] = df['Cuisine Style'].str.replace(\"]\", \"\")\n",
    "df['Cuisine Style'] = df['Cuisine Style'].str.replace(\"'\", \"\")\n",
    "df['Cuisine Style'] = df['Cuisine Style'].str.split(', ')\n",
    "df['Cuisine Count'] = df['Cuisine Style'].apply(\n",
    "    lambda x: 1 if type(x) == float else len(x))"
   ]
  },
  {
   "cell_type": "code",
   "execution_count": 11,
   "metadata": {
    "scrolled": true
   },
   "outputs": [
    {
     "data": {
      "text/plain": [
       "['Vegetarian Friendly',\n",
       " 'European',\n",
       " 'Mediterranean',\n",
       " 'Italian',\n",
       " 'Vegan Options']"
      ]
     },
     "execution_count": 11,
     "metadata": {},
     "output_type": "execute_result"
    }
   ],
   "source": [
    "# determine the most common Cuisine Styles\n",
    "cuisine = []\n",
    "for l in df.loc[df['Cuisine Style'].isna()==False]['Cuisine Style']:\n",
    "    for c in l:\n",
    "        cuisine.append(c)\n",
    "        \n",
    "top_cuisine = list(pd.Series(cuisine).value_counts().index[:5])\n",
    "top_cuisine"
   ]
  },
  {
   "cell_type": "code",
   "execution_count": 12,
   "metadata": {},
   "outputs": [],
   "source": [
    "# add dummy variables with the most common Cuisine Styles\n",
    "# def top_cuisine_dummy(cuisine_list, i):\n",
    "#    top_cuisine = ['Vegetarian Friendly',\n",
    "#                   'European',\n",
    "#                   'Mediterranean',\n",
    "#                   'Italian',\n",
    "#                   'Vegan Options']\n",
    "#    if top_cuisine[i] in cuisine_list:\n",
    "#        return 1\n",
    "#    else:\n",
    "#        return 0\n",
    "\n",
    "\n",
    "# for i in range(3):\n",
    "#    df[top_cuisine[i]] = df['Cuisine Style'].apply(\n",
    "#        lambda x: 0 if type(x) == float else top_cuisine_dummy(x, i))\n",
    "\n",
    "# leads to worse MAE"
   ]
  },
  {
   "cell_type": "code",
   "execution_count": 13,
   "metadata": {},
   "outputs": [],
   "source": [
    "df.drop(['Cuisine Style'], axis=1, inplace=True)"
   ]
  },
  {
   "cell_type": "markdown",
   "metadata": {},
   "source": [
    "## Price Range"
   ]
  },
  {
   "cell_type": "code",
   "execution_count": 14,
   "metadata": {},
   "outputs": [],
   "source": [
    "# changing denotation of Price Range to int type\n",
    "# giving a Nan separate category\n",
    "def to_nominal(price_range):\n",
    "    if price_range == '$$$$':\n",
    "        return 3\n",
    "    elif price_range == '$':\n",
    "        return 1\n",
    "    elif price_range == '$$ - $$$':\n",
    "        return 2\n",
    "    else: \n",
    "        return 0\n",
    "\n",
    "\n",
    "df['Price Range'] = df['Price Range'].apply(to_nominal)\n"
   ]
  },
  {
   "cell_type": "markdown",
   "metadata": {},
   "source": [
    "## Reviews"
   ]
  },
  {
   "cell_type": "code",
   "execution_count": 15,
   "metadata": {},
   "outputs": [],
   "source": [
    "# add a new column with review _dates in datetime format \n",
    "def to_datetime(review):\n",
    "    pattern = re.compile('\\'\\d+\\/\\d+\\/\\d+\\'?')\n",
    "    date_list = pattern.findall(review)\n",
    "    if len(date_list) >= 2:\n",
    "        datetime_list = []\n",
    "        for date in date_list:\n",
    "            date = date[1:-1]\n",
    "            datetime_list.append(datetime.strptime(date, '%m/%d/%Y'))\n",
    "        return datetime_list\n",
    "    elif len(date_list) == 1:\n",
    "        return [datetime.strptime(str(date_list[0]), \"'%m/%d/%Y'\")]\n",
    "    else:\n",
    "        return date_list\n",
    "\n",
    "\n",
    "df['Reviews'] = df['Reviews'].astype(str)\n",
    "df['review_dates'] = df['Reviews'].apply(lambda x: to_datetime(x))"
   ]
  },
  {
   "cell_type": "code",
   "execution_count": 16,
   "metadata": {},
   "outputs": [],
   "source": [
    "# add a new column with day difference between reviews\n",
    "def time_delta(date_list):\n",
    "    if len(date_list) == 2:\n",
    "        return abs((date_list[-1]-date_list[0]).days)\n",
    "    else:\n",
    "        return 0\n",
    "\n",
    "\n",
    "df['review_date_difference'] = df.review_dates.apply(time_delta)"
   ]
  },
  {
   "cell_type": "code",
   "execution_count": 17,
   "metadata": {},
   "outputs": [],
   "source": [
    "df.drop(['review_dates'], axis=1, inplace=True)"
   ]
  },
  {
   "cell_type": "code",
   "execution_count": 18,
   "metadata": {},
   "outputs": [],
   "source": [
    "# determinig the positivity of reviews\n",
    "def review_reader(review):\n",
    "    good_words = ['excellent', 'nice', 'best', 'lovely', 'amazing',\n",
    "                  'good', 'perfect', 'gorgeous', 'pleasant', 'delicious', 'great',\n",
    "                  'friendly', 'pleasant', 'welcoming', 'satisfying', 'tasty', 'yummy',\n",
    "                  'sweet', 'loved', 'like', 'happy', 'wonderful', 'excellent', 'unique',\n",
    "                  'yum', 'original', 'favourite', 'welcoming', 'real deal', 'fabulous', 'unforgettable',\n",
    "                  'divine', 'unmissable', 'recommended', 'fantastic', 'beautiful', 'wow', 'delightful',\n",
    "                  'coolest', 'fine', 'happiness', 'unbelievable', 'brilliant', 'extraordinary']\n",
    "    count = 0\n",
    "    for word in good_words:\n",
    "        if word in review.lower():\n",
    "            count += 1\n",
    "    if count > 0:\n",
    "        return 1\n",
    "    else:\n",
    "        return 0\n",
    "\n",
    "\n",
    "df['good_review'] = df.Reviews.apply(review_reader)"
   ]
  },
  {
   "cell_type": "code",
   "execution_count": 19,
   "metadata": {},
   "outputs": [],
   "source": [
    "df.drop(['Reviews'],axis=1, inplace=True)"
   ]
  },
  {
   "cell_type": "markdown",
   "metadata": {},
   "source": [
    "## City"
   ]
  },
  {
   "cell_type": "code",
   "execution_count": 20,
   "metadata": {
    "scrolled": true
   },
   "outputs": [
    {
     "data": {
      "text/plain": [
       "London        5757\n",
       "Paris         4897\n",
       "Madrid        3108\n",
       "Barcelona     2734\n",
       "Berlin        2155\n",
       "Milan         2133\n",
       "Rome          2078\n",
       "Prague        1443\n",
       "Lisbon        1300\n",
       "Vienna        1166\n",
       "Amsterdam     1086\n",
       "Brussels      1060\n",
       "Hamburg        949\n",
       "Munich         893\n",
       "Lyon           892\n",
       "Stockholm      820\n",
       "Budapest       816\n",
       "Warsaw         727\n",
       "Dublin         673\n",
       "Copenhagen     659\n",
       "Athens         628\n",
       "Edinburgh      596\n",
       "Zurich         538\n",
       "Oporto         513\n",
       "Geneva         481\n",
       "Krakow         443\n",
       "Oslo           385\n",
       "Helsinki       376\n",
       "Bratislava     301\n",
       "Luxembourg     210\n",
       "Ljubljana      183\n",
       "Name: City, dtype: int64"
      ]
     },
     "execution_count": 20,
     "metadata": {},
     "output_type": "execute_result"
    }
   ],
   "source": [
    "df['City'].value_counts()"
   ]
  },
  {
   "cell_type": "code",
   "execution_count": 21,
   "metadata": {},
   "outputs": [],
   "source": [
    "# add dummy variable capital\n",
    "capitals = ['London', 'Paris', 'Madrid', 'Berlin', 'Rome',\n",
    "            'Prague', 'Lisbon', 'Vienna', 'Amsterdam', 'Brussels',\n",
    "            'Stockholm', 'Budapest', 'Warsaw', 'Dublin',\n",
    "            'Copenhagen', 'Athens', 'Edinburgh', 'Oslo', 'Helsinki',\n",
    "            'Bratislava', 'Luxembourg', 'Ljubljana']\n",
    "\n",
    "df['Capital'] = df['City'].apply(lambda x: 1 if x in capitals else 0)"
   ]
  },
  {
   "cell_type": "code",
   "execution_count": 22,
   "metadata": {},
   "outputs": [],
   "source": [
    "# add new column with countries \n",
    "# label countries nubmerically\n",
    "countries = {'London': 'UK',\n",
    "             'Paris': 'France',\n",
    "             'Madrid': 'Italy',\n",
    "             'Barcelona': 'Spain',\n",
    "             'Berlin': 'Germany',\n",
    "             'Milan': 'Italy',\n",
    "             'Rome': 'Italy',\n",
    "             'Prague': 'Czechia',\n",
    "             'Lisbon': 'Portugal',\n",
    "             'Vienna': 'Austria',\n",
    "             'Amsterdam': 'Netherlands',\n",
    "             'Brussels': 'Belgium',\n",
    "             'Hamburg': 'Germany',\n",
    "             'Munich': 'Germany',\n",
    "             'Lyon': 'France',\n",
    "             'Stockholm': 'Sweden',\n",
    "             'Budapest': 'Hungary',\n",
    "             'Warsaw': 'Poland',\n",
    "             'Dublin': 'Ireland',\n",
    "             'Copenhagen': 'Denmark',\n",
    "             'Athens': 'Greece',\n",
    "             'Edinburgh': 'Scotland',\n",
    "             'Zurich': 'Switzerland',\n",
    "             'Oporto': 'Portugal',\n",
    "             'Geneva': 'Switzerland',\n",
    "             'Krakow': 'Poland',\n",
    "             'Oslo': 'Norway',\n",
    "             'Helsinki': 'Finland',\n",
    "             'Bratislava': 'Slovakia',\n",
    "             'Luxembourg': 'Luxembourg',\n",
    "             'Ljubljana': 'Slovenia'}\n",
    "\n",
    "df['Country'] = df['City'].map(countries)\n",
    "df['Country'] = df['Country'].astype('category')\n",
    "df['Country'] = df['Country'].cat.codes"
   ]
  },
  {
   "cell_type": "code",
   "execution_count": 23,
   "metadata": {},
   "outputs": [],
   "source": [
    "# add a column with city population\n",
    "# calculate number of restaurants per 1000 people ratio in the city\n",
    "population = {'London': 8825001,\n",
    "              'Paris': 2148271,\n",
    "              'Madrid': 3266126,\n",
    "              'Barcelona': 1620343,\n",
    "              'Berlin': 3613205,\n",
    "              'Milan': 1236837,\n",
    "              'Rome': 2318895,\n",
    "              'Prague': 1165581,\n",
    "              'Lisbon': 505526,\n",
    "              'Vienna': 1691468,\n",
    "              'Amsterdam': 741636,\n",
    "              'Brussels': 160553,\n",
    "              'Hamburg': 1841179,\n",
    "              'Munich': 1206920,\n",
    "              'Lyon': 506615,\n",
    "              'Stockholm': 961609,\n",
    "              'Budapest': 1741041,\n",
    "              'Warsaw': 1702139,\n",
    "              'Dublin': 1024027,\n",
    "              'Copenhagen': 1153615,\n",
    "              'Athens': 664046,\n",
    "              'Edinburgh': 464990,\n",
    "              'Zurich': 341730,\n",
    "              'Oporto': 249633,\n",
    "              'Geneva': 183981,\n",
    "              'Krakow': 766683,\n",
    "              'Oslo': 580000,\n",
    "              'Helsinki': 558457,\n",
    "              'Bratislava': 423737,\n",
    "              'Luxembourg': 615729,\n",
    "              'Ljubljana': 284355}\n",
    "\n",
    "df['population'] = df['City'].map(population)\n",
    "df['rest_count'] = df['City'].map(df.City.value_counts().to_dict())\n",
    "df['rest_per_people'] = df['rest_count']/(df['population']/1000)\n",
    "df.drop(['rest_count', 'population'], axis=1, inplace=True)"
   ]
  },
  {
   "cell_type": "code",
   "execution_count": 24,
   "metadata": {},
   "outputs": [],
   "source": [
    "# label cities numerically\n",
    "# df['City'] = df['City'].astype('category')\n",
    "# df['City'] = df['City'].cat.codes\n",
    "# leads to worse MAE\n",
    "\n",
    "df = pd.get_dummies(df, columns=['City'])"
   ]
  },
  {
   "cell_type": "markdown",
   "metadata": {},
   "source": [
    "## Restaraunt_id"
   ]
  },
  {
   "cell_type": "code",
   "execution_count": 25,
   "metadata": {},
   "outputs": [],
   "source": [
    "# df.Restaurant_id = df.Restaurant_id.astype('category')\n",
    "# df.Restaurant_id = df.Restaurant_id.cat.codes\n",
    "# leads to worse MAE"
   ]
  },
  {
   "cell_type": "code",
   "execution_count": 26,
   "metadata": {},
   "outputs": [],
   "source": [
    "df.drop(['Restaurant_id'], axis=1, inplace=True)"
   ]
  },
  {
   "cell_type": "markdown",
   "metadata": {},
   "source": [
    "# Разбиваем датафрейм на части, необходимые для обучения и тестирования модели"
   ]
  },
  {
   "cell_type": "code",
   "execution_count": 27,
   "metadata": {},
   "outputs": [],
   "source": [
    "# Х - данные с информацией о ресторанах, у - целевая переменная (рейтинги ресторанов)\n",
    "X = df.drop(['Rating'], axis = 1)\n",
    "y = df['Rating']"
   ]
  },
  {
   "cell_type": "code",
   "execution_count": 28,
   "metadata": {},
   "outputs": [],
   "source": [
    "# Загружаем специальный инструмент для разбивки:\n",
    "from sklearn.model_selection import train_test_split"
   ]
  },
  {
   "cell_type": "code",
   "execution_count": 29,
   "metadata": {},
   "outputs": [],
   "source": [
    "# Наборы данных с меткой \"train\" будут использоваться для обучения модели, \"test\" - для тестирования.\n",
    "# Для тестирования мы будем использовать 25% от исходного датасета.\n",
    "X_train, X_test, y_train, y_test = train_test_split(X, y, test_size=0.25)"
   ]
  },
  {
   "cell_type": "markdown",
   "metadata": {},
   "source": [
    "# Создаём, обучаем и тестируем модель"
   ]
  },
  {
   "cell_type": "code",
   "execution_count": 30,
   "metadata": {},
   "outputs": [],
   "source": [
    "# Импортируем необходимые библиотеки:\n",
    "from sklearn.ensemble import RandomForestRegressor # инструмент для создания и обучения модели\n",
    "from sklearn import metrics # инструменты для оценки точности модели"
   ]
  },
  {
   "cell_type": "code",
   "execution_count": 31,
   "metadata": {},
   "outputs": [],
   "source": [
    "# Создаём модель\n",
    "regr = RandomForestRegressor(n_estimators=100)\n",
    "\n",
    "# Обучаем модель на тестовом наборе данных\n",
    "regr.fit(X_train, y_train)\n",
    "\n",
    "# Используем обученную модель для предсказания рейтинга ресторанов в тестовой выборке.\n",
    "# Предсказанные значения записываем в переменную y_pred\n",
    "y_pred = regr.predict(X_test)"
   ]
  },
  {
   "cell_type": "code",
   "execution_count": 32,
   "metadata": {},
   "outputs": [],
   "source": [
    "y_pred = (y_pred * 2).round()/2"
   ]
  },
  {
   "cell_type": "code",
   "execution_count": 33,
   "metadata": {},
   "outputs": [
    {
     "name": "stdout",
     "output_type": "stream",
     "text": [
      "MAE: 0.1868\n"
     ]
    }
   ],
   "source": [
    "# Сравниваем предсказанные значения (y_pred) с реальными (y_test), и смотрим насколько они в среднем отличаются\n",
    "# Метрика называется Mean Absolute Error (MAE) и показывает среднее отклонение предсказанных значений от фактических.\n",
    "print('MAE:', metrics.mean_absolute_error(y_test, y_pred))"
   ]
  },
  {
   "cell_type": "code",
   "execution_count": null,
   "metadata": {},
   "outputs": [],
   "source": []
  }
 ],
 "metadata": {
  "kernelspec": {
   "display_name": "Python 3",
   "language": "python",
   "name": "python3"
  },
  "language_info": {
   "codemirror_mode": {
    "name": "ipython",
    "version": 3
   },
   "file_extension": ".py",
   "mimetype": "text/x-python",
   "name": "python",
   "nbconvert_exporter": "python",
   "pygments_lexer": "ipython3",
   "version": "3.8.3"
  }
 },
 "nbformat": 4,
 "nbformat_minor": 2
}
