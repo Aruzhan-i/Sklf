{
 "cells": [
  {
   "cell_type": "code",
   "execution_count": 1,
   "metadata": {},
   "outputs": [
    {
     "name": "stdout",
     "output_type": "stream",
     "text": [
      "Ваш алгоритм угадывает число в среднем за 2 попыток\n"
     ]
    },
    {
     "data": {
      "text/plain": [
       "2"
      ]
     },
     "execution_count": 1,
     "metadata": {},
     "output_type": "execute_result"
    }
   ],
   "source": [
    "import numpy as np\n",
    "def game_core_v3(number):\n",
    "    '''We set a random number and find a common divisors of random number and necessary number, then increase or decrease random number by devisors depending on whether it is more or less than the necessary number..\n",
    "       The function accepts the number and returns a number of attempts.'''\n",
    "    count = 1\n",
    "    predict = np.random.randint(1,101)\n",
    "    while number != predict:\n",
    "        count+=1 \n",
    "        for i in range(2,50):\n",
    "            if predict%i==0 and number%i==0:\n",
    "                if predict > number:\n",
    "                    predict -= i\n",
    "                elif predict < number:\n",
    "                    predict += i\n",
    "            else:\n",
    "                if predict > number:\n",
    "                    predict -= 1\n",
    "                elif predict < number:\n",
    "                    predict += 1\n",
    "    return(count) # escape the cycle after guessing the number\n",
    "\n",
    "\n",
    "def score_game(game_core):\n",
    "    '''Launch the game 1000 times to find out how fast it guesses the number'''\n",
    "    count_ls = []\n",
    "    np.random.seed(1)  # RANDOM SEED to make the experiment reproducible\n",
    "    random_array = np.random.randint(1,101, size=(1000))\n",
    "    for number in random_array:\n",
    "        count_ls.append(game_core(number))\n",
    "    score = int(np.mean(count_ls))\n",
    "    print(f\"Ваш алгоритм угадывает число в среднем за {score} попыток\")\n",
    "    return(score)\n",
    "\n",
    "\n",
    "score_game(game_core_v3)"
   ]
  }
 ],
 "metadata": {
  "kernelspec": {
   "display_name": "Python 3",
   "language": "python",
   "name": "python3"
  },
  "language_info": {
   "codemirror_mode": {
    "name": "ipython",
    "version": 3
   },
   "file_extension": ".py",
   "mimetype": "text/x-python",
   "name": "python",
   "nbconvert_exporter": "python",
   "pygments_lexer": "ipython3",
   "version": "3.7.6"
  }
 },
 "nbformat": 4,
 "nbformat_minor": 4
}
