{
 "cells": [
  {
   "cell_type": "code",
   "execution_count": 1,
   "metadata": {
    "_cell_guid": "b1076dfc-b9ad-4769-8c92-a6c4dae69d19",
    "_uuid": "8f2839f25d086af736a60e9eeb907d3b93b6e0e5",
    "colab": {},
    "colab_type": "code",
    "id": "U2D2gTdJVp90"
   },
   "outputs": [],
   "source": [
    "import pandas as pd\n",
    "from collections import Counter\n",
    "import itertools as it"
   ]
  },
  {
   "cell_type": "code",
   "execution_count": 2,
   "metadata": {
    "_cell_guid": "79c7e3d0-c299-4dcb-8224-4455121ee9b0",
    "_uuid": "d629ff2d2480ee46fbb7e2d37f6b5fab8052498a",
    "colab": {},
    "colab_type": "code",
    "id": "oyGfxL3eVp9-"
   },
   "outputs": [
    {
     "data": {
      "text/html": [
       "<div>\n",
       "<style scoped>\n",
       "    .dataframe tbody tr th:only-of-type {\n",
       "        vertical-align: middle;\n",
       "    }\n",
       "\n",
       "    .dataframe tbody tr th {\n",
       "        vertical-align: top;\n",
       "    }\n",
       "\n",
       "    .dataframe thead th {\n",
       "        text-align: right;\n",
       "    }\n",
       "</style>\n",
       "<table border=\"1\" class=\"dataframe\">\n",
       "  <thead>\n",
       "    <tr style=\"text-align: right;\">\n",
       "      <th></th>\n",
       "      <th>imdb_id</th>\n",
       "      <th>budget</th>\n",
       "      <th>revenue</th>\n",
       "      <th>original_title</th>\n",
       "      <th>cast</th>\n",
       "      <th>director</th>\n",
       "      <th>tagline</th>\n",
       "      <th>overview</th>\n",
       "      <th>runtime</th>\n",
       "      <th>genres</th>\n",
       "      <th>production_companies</th>\n",
       "      <th>release_date</th>\n",
       "      <th>vote_average</th>\n",
       "      <th>release_year</th>\n",
       "    </tr>\n",
       "  </thead>\n",
       "  <tbody>\n",
       "    <tr>\n",
       "      <th>159</th>\n",
       "      <td>tt2180411</td>\n",
       "      <td>50000000</td>\n",
       "      <td>212902372</td>\n",
       "      <td>Into the Woods</td>\n",
       "      <td>Meryl Streep|Emily Blunt|James Corden|Anna Ken...</td>\n",
       "      <td>Rob Marshall</td>\n",
       "      <td>Be careful what you wish for...</td>\n",
       "      <td>In a woods filled with magic and fairy tale ch...</td>\n",
       "      <td>125</td>\n",
       "      <td>Fantasy|Comedy|Music</td>\n",
       "      <td>Walt Disney Pictures|Marc Platt Productions|Lu...</td>\n",
       "      <td>12/25/2014</td>\n",
       "      <td>5.6</td>\n",
       "      <td>2014</td>\n",
       "    </tr>\n",
       "    <tr>\n",
       "      <th>969</th>\n",
       "      <td>tt0279493</td>\n",
       "      <td>25000000</td>\n",
       "      <td>41604473</td>\n",
       "      <td>Undercover Brother</td>\n",
       "      <td>Eddie Griffin|Chris Kattan|Denise Richards|Aun...</td>\n",
       "      <td>Malcolm D. Lee</td>\n",
       "      <td>He's All Action</td>\n",
       "      <td>An Afro-American organization, the B.R.O.T.H.E...</td>\n",
       "      <td>86</td>\n",
       "      <td>Action|Comedy</td>\n",
       "      <td>Universal Pictures</td>\n",
       "      <td>5/31/2002</td>\n",
       "      <td>5.4</td>\n",
       "      <td>2002</td>\n",
       "    </tr>\n",
       "    <tr>\n",
       "      <th>38</th>\n",
       "      <td>tt1398426</td>\n",
       "      <td>28000000</td>\n",
       "      <td>201634991</td>\n",
       "      <td>Straight Outta Compton</td>\n",
       "      <td>O'Shea Jackson Jr.|Corey Hawkins|Jason Mitchel...</td>\n",
       "      <td>F. Gary Gray</td>\n",
       "      <td>The Story of N.W.A.</td>\n",
       "      <td>In 1987, five young men, using brutally honest...</td>\n",
       "      <td>147</td>\n",
       "      <td>Drama|Music</td>\n",
       "      <td>New Line Cinema|Universal Pictures|Legendary P...</td>\n",
       "      <td>8/13/2015</td>\n",
       "      <td>7.7</td>\n",
       "      <td>2015</td>\n",
       "    </tr>\n",
       "    <tr>\n",
       "      <th>801</th>\n",
       "      <td>tt0905372</td>\n",
       "      <td>35000000</td>\n",
       "      <td>28128670</td>\n",
       "      <td>The Thing</td>\n",
       "      <td>Mary Elizabeth Winstead|Joel Edgerton|Ulrich T...</td>\n",
       "      <td>Matthijs van Heijningen Jr.</td>\n",
       "      <td>It's Not Human. Yet.</td>\n",
       "      <td>When paleontologist Kate Lloyd travels to an i...</td>\n",
       "      <td>103</td>\n",
       "      <td>Horror|Science Fiction|Mystery|Thriller</td>\n",
       "      <td>Universal Pictures|Strike Entertainment|Morgan...</td>\n",
       "      <td>10/12/2011</td>\n",
       "      <td>6.0</td>\n",
       "      <td>2011</td>\n",
       "    </tr>\n",
       "    <tr>\n",
       "      <th>211</th>\n",
       "      <td>tt3322940</td>\n",
       "      <td>6500000</td>\n",
       "      <td>255273813</td>\n",
       "      <td>Annabelle</td>\n",
       "      <td>Annabelle Wallis|Alfre Woodard|Eric Ladin|Tony...</td>\n",
       "      <td>John R. Leonetti</td>\n",
       "      <td>Before the Conjuring, there was Annabelle.</td>\n",
       "      <td>John Form has found the perfect gift for his e...</td>\n",
       "      <td>99</td>\n",
       "      <td>Horror</td>\n",
       "      <td>New Line Cinema|The Safran Company|Evergreen M...</td>\n",
       "      <td>10/2/2014</td>\n",
       "      <td>5.6</td>\n",
       "      <td>2014</td>\n",
       "    </tr>\n",
       "  </tbody>\n",
       "</table>\n",
       "</div>"
      ],
      "text/plain": [
       "       imdb_id    budget    revenue          original_title  \\\n",
       "159  tt2180411  50000000  212902372          Into the Woods   \n",
       "969  tt0279493  25000000   41604473      Undercover Brother   \n",
       "38   tt1398426  28000000  201634991  Straight Outta Compton   \n",
       "801  tt0905372  35000000   28128670               The Thing   \n",
       "211  tt3322940   6500000  255273813               Annabelle   \n",
       "\n",
       "                                                  cast  \\\n",
       "159  Meryl Streep|Emily Blunt|James Corden|Anna Ken...   \n",
       "969  Eddie Griffin|Chris Kattan|Denise Richards|Aun...   \n",
       "38   O'Shea Jackson Jr.|Corey Hawkins|Jason Mitchel...   \n",
       "801  Mary Elizabeth Winstead|Joel Edgerton|Ulrich T...   \n",
       "211  Annabelle Wallis|Alfre Woodard|Eric Ladin|Tony...   \n",
       "\n",
       "                        director                                     tagline  \\\n",
       "159                 Rob Marshall             Be careful what you wish for...   \n",
       "969               Malcolm D. Lee                             He's All Action   \n",
       "38                  F. Gary Gray                         The Story of N.W.A.   \n",
       "801  Matthijs van Heijningen Jr.                        It's Not Human. Yet.   \n",
       "211             John R. Leonetti  Before the Conjuring, there was Annabelle.   \n",
       "\n",
       "                                              overview  runtime  \\\n",
       "159  In a woods filled with magic and fairy tale ch...      125   \n",
       "969  An Afro-American organization, the B.R.O.T.H.E...       86   \n",
       "38   In 1987, five young men, using brutally honest...      147   \n",
       "801  When paleontologist Kate Lloyd travels to an i...      103   \n",
       "211  John Form has found the perfect gift for his e...       99   \n",
       "\n",
       "                                      genres  \\\n",
       "159                     Fantasy|Comedy|Music   \n",
       "969                            Action|Comedy   \n",
       "38                               Drama|Music   \n",
       "801  Horror|Science Fiction|Mystery|Thriller   \n",
       "211                                   Horror   \n",
       "\n",
       "                                  production_companies release_date  \\\n",
       "159  Walt Disney Pictures|Marc Platt Productions|Lu...   12/25/2014   \n",
       "969                                 Universal Pictures    5/31/2002   \n",
       "38   New Line Cinema|Universal Pictures|Legendary P...    8/13/2015   \n",
       "801  Universal Pictures|Strike Entertainment|Morgan...   10/12/2011   \n",
       "211  New Line Cinema|The Safran Company|Evergreen M...    10/2/2014   \n",
       "\n",
       "     vote_average  release_year  \n",
       "159           5.6          2014  \n",
       "969           5.4          2002  \n",
       "38            7.7          2015  \n",
       "801           6.0          2011  \n",
       "211           5.6          2014  "
      ]
     },
     "execution_count": 2,
     "metadata": {},
     "output_type": "execute_result"
    }
   ],
   "source": [
    "data = pd.read_csv('movie_bd_v5.csv')\n",
    "data.sample(5)"
   ]
  },
  {
   "cell_type": "code",
   "execution_count": 3,
   "metadata": {
    "colab": {},
    "colab_type": "code",
    "id": "CoYUnagMVp-C",
    "scrolled": false
   },
   "outputs": [
    {
     "data": {
      "text/html": [
       "<div>\n",
       "<style scoped>\n",
       "    .dataframe tbody tr th:only-of-type {\n",
       "        vertical-align: middle;\n",
       "    }\n",
       "\n",
       "    .dataframe tbody tr th {\n",
       "        vertical-align: top;\n",
       "    }\n",
       "\n",
       "    .dataframe thead th {\n",
       "        text-align: right;\n",
       "    }\n",
       "</style>\n",
       "<table border=\"1\" class=\"dataframe\">\n",
       "  <thead>\n",
       "    <tr style=\"text-align: right;\">\n",
       "      <th></th>\n",
       "      <th>budget</th>\n",
       "      <th>revenue</th>\n",
       "      <th>runtime</th>\n",
       "      <th>vote_average</th>\n",
       "      <th>release_year</th>\n",
       "    </tr>\n",
       "  </thead>\n",
       "  <tbody>\n",
       "    <tr>\n",
       "      <th>count</th>\n",
       "      <td>1.889000e+03</td>\n",
       "      <td>1.889000e+03</td>\n",
       "      <td>1889.000000</td>\n",
       "      <td>1889.000000</td>\n",
       "      <td>1889.000000</td>\n",
       "    </tr>\n",
       "    <tr>\n",
       "      <th>mean</th>\n",
       "      <td>5.431083e+07</td>\n",
       "      <td>1.553653e+08</td>\n",
       "      <td>109.658549</td>\n",
       "      <td>6.140762</td>\n",
       "      <td>2007.860773</td>\n",
       "    </tr>\n",
       "    <tr>\n",
       "      <th>std</th>\n",
       "      <td>4.858721e+07</td>\n",
       "      <td>2.146698e+08</td>\n",
       "      <td>18.017041</td>\n",
       "      <td>0.764763</td>\n",
       "      <td>4.468841</td>\n",
       "    </tr>\n",
       "    <tr>\n",
       "      <th>min</th>\n",
       "      <td>5.000000e+06</td>\n",
       "      <td>2.033165e+06</td>\n",
       "      <td>63.000000</td>\n",
       "      <td>3.300000</td>\n",
       "      <td>2000.000000</td>\n",
       "    </tr>\n",
       "    <tr>\n",
       "      <th>25%</th>\n",
       "      <td>2.000000e+07</td>\n",
       "      <td>3.456058e+07</td>\n",
       "      <td>97.000000</td>\n",
       "      <td>5.600000</td>\n",
       "      <td>2004.000000</td>\n",
       "    </tr>\n",
       "    <tr>\n",
       "      <th>50%</th>\n",
       "      <td>3.800000e+07</td>\n",
       "      <td>8.361541e+07</td>\n",
       "      <td>107.000000</td>\n",
       "      <td>6.100000</td>\n",
       "      <td>2008.000000</td>\n",
       "    </tr>\n",
       "    <tr>\n",
       "      <th>75%</th>\n",
       "      <td>7.200000e+07</td>\n",
       "      <td>1.782626e+08</td>\n",
       "      <td>120.000000</td>\n",
       "      <td>6.600000</td>\n",
       "      <td>2012.000000</td>\n",
       "    </tr>\n",
       "    <tr>\n",
       "      <th>max</th>\n",
       "      <td>3.800000e+08</td>\n",
       "      <td>2.781506e+09</td>\n",
       "      <td>214.000000</td>\n",
       "      <td>8.100000</td>\n",
       "      <td>2015.000000</td>\n",
       "    </tr>\n",
       "  </tbody>\n",
       "</table>\n",
       "</div>"
      ],
      "text/plain": [
       "             budget       revenue      runtime  vote_average  release_year\n",
       "count  1.889000e+03  1.889000e+03  1889.000000   1889.000000   1889.000000\n",
       "mean   5.431083e+07  1.553653e+08   109.658549      6.140762   2007.860773\n",
       "std    4.858721e+07  2.146698e+08    18.017041      0.764763      4.468841\n",
       "min    5.000000e+06  2.033165e+06    63.000000      3.300000   2000.000000\n",
       "25%    2.000000e+07  3.456058e+07    97.000000      5.600000   2004.000000\n",
       "50%    3.800000e+07  8.361541e+07   107.000000      6.100000   2008.000000\n",
       "75%    7.200000e+07  1.782626e+08   120.000000      6.600000   2012.000000\n",
       "max    3.800000e+08  2.781506e+09   214.000000      8.100000   2015.000000"
      ]
     },
     "metadata": {},
     "output_type": "display_data"
    },
    {
     "name": "stdout",
     "output_type": "stream",
     "text": [
      "<class 'pandas.core.frame.DataFrame'>\n",
      "RangeIndex: 1889 entries, 0 to 1888\n",
      "Data columns (total 14 columns):\n",
      " #   Column                Non-Null Count  Dtype  \n",
      "---  ------                --------------  -----  \n",
      " 0   imdb_id               1889 non-null   object \n",
      " 1   budget                1889 non-null   int64  \n",
      " 2   revenue               1889 non-null   int64  \n",
      " 3   original_title        1889 non-null   object \n",
      " 4   cast                  1889 non-null   object \n",
      " 5   director              1889 non-null   object \n",
      " 6   tagline               1889 non-null   object \n",
      " 7   overview              1889 non-null   object \n",
      " 8   runtime               1889 non-null   int64  \n",
      " 9   genres                1889 non-null   object \n",
      " 10  production_companies  1889 non-null   object \n",
      " 11  release_date          1889 non-null   object \n",
      " 12  vote_average          1889 non-null   float64\n",
      " 13  release_year          1889 non-null   int64  \n",
      "dtypes: float64(1), int64(4), object(9)\n",
      "memory usage: 206.7+ KB\n",
      "None\n"
     ]
    }
   ],
   "source": [
    "display(data.describe())\n",
    "print(data.info())"
   ]
  },
  {
   "cell_type": "markdown",
   "metadata": {
    "colab_type": "text",
    "id": "DTIt7ezGVp-G"
   },
   "source": [
    "# Предобработка"
   ]
  },
  {
   "cell_type": "code",
   "execution_count": 4,
   "metadata": {},
   "outputs": [],
   "source": [
    "answers = {}\n",
    "data['profit'] = data['revenue'] - data['budget']\n",
    "data['release_date'] = pd.to_datetime(data['release_date'])\n",
    "data['release_month'] = [m.strftime('%B') for m in data.release_date]\n",
    "data['title_length'] = [len(t) for t in data['original_title']]\n",
    "\n",
    "\n",
    "\"\"\"\n",
    "Function receives the list of numbers and find the mean value of that numbers\n",
    "It is used in the quetsions 24 and 25\n",
    "\"\"\"\n",
    "\n",
    "\n",
    "def mean_counter(numbers):\n",
    "    return sum(numbers)/len(numbers)"
   ]
  },
  {
   "cell_type": "code",
   "execution_count": 5,
   "metadata": {},
   "outputs": [
    {
     "data": {
      "text/html": [
       "<div>\n",
       "<style scoped>\n",
       "    .dataframe tbody tr th:only-of-type {\n",
       "        vertical-align: middle;\n",
       "    }\n",
       "\n",
       "    .dataframe tbody tr th {\n",
       "        vertical-align: top;\n",
       "    }\n",
       "\n",
       "    .dataframe thead th {\n",
       "        text-align: right;\n",
       "    }\n",
       "</style>\n",
       "<table border=\"1\" class=\"dataframe\">\n",
       "  <thead>\n",
       "    <tr style=\"text-align: right;\">\n",
       "      <th></th>\n",
       "      <th>imdb_id</th>\n",
       "      <th>budget</th>\n",
       "      <th>revenue</th>\n",
       "      <th>original_title</th>\n",
       "      <th>cast</th>\n",
       "      <th>director</th>\n",
       "      <th>tagline</th>\n",
       "      <th>overview</th>\n",
       "      <th>runtime</th>\n",
       "      <th>genres</th>\n",
       "      <th>production_companies</th>\n",
       "      <th>release_date</th>\n",
       "      <th>vote_average</th>\n",
       "      <th>release_year</th>\n",
       "      <th>profit</th>\n",
       "      <th>release_month</th>\n",
       "      <th>title_length</th>\n",
       "    </tr>\n",
       "  </thead>\n",
       "  <tbody>\n",
       "    <tr>\n",
       "      <th>0</th>\n",
       "      <td>tt0369610</td>\n",
       "      <td>150000000</td>\n",
       "      <td>1513528810</td>\n",
       "      <td>Jurassic World</td>\n",
       "      <td>Chris Pratt|Bryce Dallas Howard|Irrfan Khan|Vi...</td>\n",
       "      <td>Colin Trevorrow</td>\n",
       "      <td>The park is open.</td>\n",
       "      <td>Twenty-two years after the events of Jurassic ...</td>\n",
       "      <td>124</td>\n",
       "      <td>Action|Adventure|Science Fiction|Thriller</td>\n",
       "      <td>Universal Studios|Amblin Entertainment|Legenda...</td>\n",
       "      <td>2015-06-09</td>\n",
       "      <td>6.5</td>\n",
       "      <td>2015</td>\n",
       "      <td>1363528810</td>\n",
       "      <td>June</td>\n",
       "      <td>14</td>\n",
       "    </tr>\n",
       "    <tr>\n",
       "      <th>1</th>\n",
       "      <td>tt1392190</td>\n",
       "      <td>150000000</td>\n",
       "      <td>378436354</td>\n",
       "      <td>Mad Max: Fury Road</td>\n",
       "      <td>Tom Hardy|Charlize Theron|Hugh Keays-Byrne|Nic...</td>\n",
       "      <td>George Miller</td>\n",
       "      <td>What a Lovely Day.</td>\n",
       "      <td>An apocalyptic story set in the furthest reach...</td>\n",
       "      <td>120</td>\n",
       "      <td>Action|Adventure|Science Fiction|Thriller</td>\n",
       "      <td>Village Roadshow Pictures|Kennedy Miller Produ...</td>\n",
       "      <td>2015-05-13</td>\n",
       "      <td>7.1</td>\n",
       "      <td>2015</td>\n",
       "      <td>228436354</td>\n",
       "      <td>May</td>\n",
       "      <td>18</td>\n",
       "    </tr>\n",
       "    <tr>\n",
       "      <th>2</th>\n",
       "      <td>tt2908446</td>\n",
       "      <td>110000000</td>\n",
       "      <td>295238201</td>\n",
       "      <td>Insurgent</td>\n",
       "      <td>Shailene Woodley|Theo James|Kate Winslet|Ansel...</td>\n",
       "      <td>Robert Schwentke</td>\n",
       "      <td>One Choice Can Destroy You</td>\n",
       "      <td>Beatrice Prior must confront her inner demons ...</td>\n",
       "      <td>119</td>\n",
       "      <td>Adventure|Science Fiction|Thriller</td>\n",
       "      <td>Summit Entertainment|Mandeville Films|Red Wago...</td>\n",
       "      <td>2015-03-18</td>\n",
       "      <td>6.3</td>\n",
       "      <td>2015</td>\n",
       "      <td>185238201</td>\n",
       "      <td>March</td>\n",
       "      <td>9</td>\n",
       "    </tr>\n",
       "    <tr>\n",
       "      <th>3</th>\n",
       "      <td>tt2488496</td>\n",
       "      <td>200000000</td>\n",
       "      <td>2068178225</td>\n",
       "      <td>Star Wars: The Force Awakens</td>\n",
       "      <td>Harrison Ford|Mark Hamill|Carrie Fisher|Adam D...</td>\n",
       "      <td>J.J. Abrams</td>\n",
       "      <td>Every generation has a story.</td>\n",
       "      <td>Thirty years after defeating the Galactic Empi...</td>\n",
       "      <td>136</td>\n",
       "      <td>Action|Adventure|Science Fiction|Fantasy</td>\n",
       "      <td>Lucasfilm|Truenorth Productions|Bad Robot</td>\n",
       "      <td>2015-12-15</td>\n",
       "      <td>7.5</td>\n",
       "      <td>2015</td>\n",
       "      <td>1868178225</td>\n",
       "      <td>December</td>\n",
       "      <td>28</td>\n",
       "    </tr>\n",
       "    <tr>\n",
       "      <th>4</th>\n",
       "      <td>tt2820852</td>\n",
       "      <td>190000000</td>\n",
       "      <td>1506249360</td>\n",
       "      <td>Furious 7</td>\n",
       "      <td>Vin Diesel|Paul Walker|Jason Statham|Michelle ...</td>\n",
       "      <td>James Wan</td>\n",
       "      <td>Vengeance Hits Home</td>\n",
       "      <td>Deckard Shaw seeks revenge against Dominic Tor...</td>\n",
       "      <td>137</td>\n",
       "      <td>Action|Crime|Thriller</td>\n",
       "      <td>Universal Pictures|Original Film|Media Rights ...</td>\n",
       "      <td>2015-04-01</td>\n",
       "      <td>7.3</td>\n",
       "      <td>2015</td>\n",
       "      <td>1316249360</td>\n",
       "      <td>April</td>\n",
       "      <td>9</td>\n",
       "    </tr>\n",
       "  </tbody>\n",
       "</table>\n",
       "</div>"
      ],
      "text/plain": [
       "     imdb_id     budget     revenue                original_title  \\\n",
       "0  tt0369610  150000000  1513528810                Jurassic World   \n",
       "1  tt1392190  150000000   378436354            Mad Max: Fury Road   \n",
       "2  tt2908446  110000000   295238201                     Insurgent   \n",
       "3  tt2488496  200000000  2068178225  Star Wars: The Force Awakens   \n",
       "4  tt2820852  190000000  1506249360                     Furious 7   \n",
       "\n",
       "                                                cast          director  \\\n",
       "0  Chris Pratt|Bryce Dallas Howard|Irrfan Khan|Vi...   Colin Trevorrow   \n",
       "1  Tom Hardy|Charlize Theron|Hugh Keays-Byrne|Nic...     George Miller   \n",
       "2  Shailene Woodley|Theo James|Kate Winslet|Ansel...  Robert Schwentke   \n",
       "3  Harrison Ford|Mark Hamill|Carrie Fisher|Adam D...       J.J. Abrams   \n",
       "4  Vin Diesel|Paul Walker|Jason Statham|Michelle ...         James Wan   \n",
       "\n",
       "                         tagline  \\\n",
       "0              The park is open.   \n",
       "1             What a Lovely Day.   \n",
       "2     One Choice Can Destroy You   \n",
       "3  Every generation has a story.   \n",
       "4            Vengeance Hits Home   \n",
       "\n",
       "                                            overview  runtime  \\\n",
       "0  Twenty-two years after the events of Jurassic ...      124   \n",
       "1  An apocalyptic story set in the furthest reach...      120   \n",
       "2  Beatrice Prior must confront her inner demons ...      119   \n",
       "3  Thirty years after defeating the Galactic Empi...      136   \n",
       "4  Deckard Shaw seeks revenge against Dominic Tor...      137   \n",
       "\n",
       "                                      genres  \\\n",
       "0  Action|Adventure|Science Fiction|Thriller   \n",
       "1  Action|Adventure|Science Fiction|Thriller   \n",
       "2         Adventure|Science Fiction|Thriller   \n",
       "3   Action|Adventure|Science Fiction|Fantasy   \n",
       "4                      Action|Crime|Thriller   \n",
       "\n",
       "                                production_companies release_date  \\\n",
       "0  Universal Studios|Amblin Entertainment|Legenda...   2015-06-09   \n",
       "1  Village Roadshow Pictures|Kennedy Miller Produ...   2015-05-13   \n",
       "2  Summit Entertainment|Mandeville Films|Red Wago...   2015-03-18   \n",
       "3          Lucasfilm|Truenorth Productions|Bad Robot   2015-12-15   \n",
       "4  Universal Pictures|Original Film|Media Rights ...   2015-04-01   \n",
       "\n",
       "   vote_average  release_year      profit release_month  title_length  \n",
       "0           6.5          2015  1363528810          June            14  \n",
       "1           7.1          2015   228436354           May            18  \n",
       "2           6.3          2015   185238201         March             9  \n",
       "3           7.5          2015  1868178225      December            28  \n",
       "4           7.3          2015  1316249360         April             9  "
      ]
     },
     "metadata": {},
     "output_type": "display_data"
    }
   ],
   "source": [
    "display(data.head())"
   ]
  },
  {
   "cell_type": "markdown",
   "metadata": {
    "colab_type": "text",
    "id": "YxZaH-nPVp-L"
   },
   "source": [
    "# 1. У какого фильма из списка самый большой бюджет?"
   ]
  },
  {
   "cell_type": "markdown",
   "metadata": {
    "colab_type": "text",
    "id": "Nd-G5gX6Vp-M"
   },
   "source": [
    "Использовать варианты ответов в коде решения запрещено.    \n",
    "Вы думаете и в жизни у вас будут варианты ответов?)"
   ]
  },
  {
   "cell_type": "code",
   "execution_count": 6,
   "metadata": {
    "colab": {},
    "colab_type": "code",
    "id": "dZwb3m28Vp-S"
   },
   "outputs": [],
   "source": [
    "\"\"\"\n",
    "We filter the dataset according to the condition that the value of budget is maximum. \n",
    "And save the title in our dictionary\n",
    "\"\"\"\n",
    "answers['1'] = data[data['budget'] ==\n",
    "                    data['budget'].max()]['original_title'].values[0]"
   ]
  },
  {
   "cell_type": "markdown",
   "metadata": {
    "colab_type": "text",
    "id": "FNRbbI3vVp-c"
   },
   "source": [
    "# 2. Какой из фильмов самый длительный (в минутах)?"
   ]
  },
  {
   "cell_type": "code",
   "execution_count": 7,
   "metadata": {
    "colab": {},
    "colab_type": "code",
    "id": "ot-VX2XrVp-g",
    "scrolled": true
   },
   "outputs": [],
   "source": [
    "\"\"\"\n",
    "We filter the dataset according to the condition that the value of runtime is maximum. \n",
    "And save the title in our dictionary\n",
    "\"\"\"\n",
    "answers['2'] = data[data.runtime ==\n",
    "                    data.runtime.max()]['original_title'].values[0]"
   ]
  },
  {
   "cell_type": "markdown",
   "metadata": {
    "colab_type": "text",
    "id": "bapLlpW8Vp-k"
   },
   "source": [
    "# 3. Какой из фильмов самый короткий (в минутах)?\n",
    "\n",
    "\n",
    "\n"
   ]
  },
  {
   "cell_type": "code",
   "execution_count": 8,
   "metadata": {
    "colab": {},
    "colab_type": "code",
    "id": "YBxaSHuAVp-l"
   },
   "outputs": [],
   "source": [
    "\"\"\"\n",
    "We filter the dataset according to the condition that the value of runtime is minimum. \n",
    "And save the title in our dictionary\n",
    "\"\"\"\n",
    "answers['3'] = data[data.runtime ==\n",
    "                    data.runtime.min()]['original_title'].values[0]"
   ]
  },
  {
   "cell_type": "markdown",
   "metadata": {
    "colab_type": "text",
    "id": "TfQbxbfNVp-p"
   },
   "source": [
    "# 4. Какова средняя длительность фильмов?\n"
   ]
  },
  {
   "cell_type": "code",
   "execution_count": 9,
   "metadata": {
    "colab": {},
    "colab_type": "code",
    "id": "5K6dKZYVVp-q"
   },
   "outputs": [],
   "source": [
    "\"\"\"\n",
    "We find the mean value of runtime and round it to the nearest unit,\n",
    "because we want integer in our answer. \n",
    "And save the result in our dictionary\n",
    "\"\"\"\n",
    "answers['4'] = round(data.runtime.mean(), 0)"
   ]
  },
  {
   "cell_type": "markdown",
   "metadata": {
    "colab_type": "text",
    "id": "r5TvbnT_Vp-u"
   },
   "source": [
    "# 5. Каково медианное значение длительности фильмов? "
   ]
  },
  {
   "cell_type": "code",
   "execution_count": 10,
   "metadata": {
    "colab": {},
    "colab_type": "code",
    "id": "iBROplKnVp-v"
   },
   "outputs": [],
   "source": [
    "\"\"\"\n",
    "We find the median value of the runtime. \n",
    "And save the value in our dictionary\n",
    "\"\"\"\n",
    "answers['5'] = data.runtime.median()"
   ]
  },
  {
   "cell_type": "markdown",
   "metadata": {
    "colab_type": "text",
    "id": "39P-deDSVp-y"
   },
   "source": [
    "# 6. Какой самый прибыльный фильм?\n",
    "#### Внимание! Здесь и далее под «прибылью» или «убытками» понимается разность между сборами и бюджетом фильма. (прибыль = сборы - бюджет) в нашем датасете это будет (profit = revenue - budget) "
   ]
  },
  {
   "cell_type": "code",
   "execution_count": 11,
   "metadata": {},
   "outputs": [],
   "source": [
    "\"\"\"\n",
    "We filter the dataset according to the condition that the value of profit is maximum.\n",
    "And save the title in our dictionary\n",
    "\"\"\"\n",
    "answers['6'] = data[data.profit ==\n",
    "                    data.profit.max()]['original_title'].values[0]"
   ]
  },
  {
   "cell_type": "markdown",
   "metadata": {
    "colab_type": "text",
    "id": "M99JmIX4Vp-2"
   },
   "source": [
    "# 7. Какой фильм самый убыточный? "
   ]
  },
  {
   "cell_type": "code",
   "execution_count": 12,
   "metadata": {
    "colab": {},
    "colab_type": "code",
    "id": "w-D2m4XPVp-3"
   },
   "outputs": [],
   "source": [
    "\"\"\"\n",
    "We filter the dataset according to the condition that the value of profit is minimum.\n",
    "And save the title in our dictionary\n",
    "\"\"\"\n",
    "answers['7'] = data[data.profit ==\n",
    "                    data.profit.min()]['original_title'].values[0]"
   ]
  },
  {
   "cell_type": "markdown",
   "metadata": {
    "colab_type": "text",
    "id": "wEOM5ERVVp-6"
   },
   "source": [
    "# 8. У скольких фильмов из датасета объем сборов оказался выше бюджета?"
   ]
  },
  {
   "cell_type": "code",
   "execution_count": 13,
   "metadata": {
    "colab": {},
    "colab_type": "code",
    "id": "y00_7HD6Vp-7"
   },
   "outputs": [],
   "source": [
    "\"\"\"\n",
    "We filter the dataset according to the condition that the revenue is more than budget.\n",
    "Then find the length of this dataframe. \n",
    "And save the result in our dictionary\n",
    "\"\"\"\n",
    "answers['8'] = len(data[data.revenue > data.budget])"
   ]
  },
  {
   "cell_type": "markdown",
   "metadata": {
    "colab_type": "text",
    "id": "xhpspA9KVp_A"
   },
   "source": [
    "# 9. Какой фильм оказался самым кассовым в 2008 году?"
   ]
  },
  {
   "cell_type": "code",
   "execution_count": 14,
   "metadata": {
    "colab": {},
    "colab_type": "code",
    "id": "MoUyQr9RVp_B"
   },
   "outputs": [],
   "source": [
    "\"\"\"\n",
    "We fillter the dataset according to the condition that the release_year is 2008.\n",
    "And save the filtered dataset in the new variable. \n",
    "Then we filter new dataset with the condition that revenue is maximum.\n",
    "And save the result in our dictionary\n",
    "\"\"\"\n",
    "data_2008 = data[data.release_year == 2008]\n",
    "answers['9'] = data_2008[data_2008.revenue ==\n",
    "                         data_2008.revenue.max()]['original_title'].values[0]"
   ]
  },
  {
   "cell_type": "markdown",
   "metadata": {
    "colab_type": "text",
    "id": "Zi4hDKidVp_F"
   },
   "source": [
    "# 10. Самый убыточный фильм за период с 2012 по 2014 г. (включительно)?\n"
   ]
  },
  {
   "cell_type": "code",
   "execution_count": 15,
   "metadata": {
    "colab": {},
    "colab_type": "code",
    "id": "XqyRmufJVp_F"
   },
   "outputs": [],
   "source": [
    "\"\"\"\n",
    "We create a new dataset with the release year 2012-2014. \n",
    "Then in a new dataset we find the film  with the minimum profit.\n",
    "And save the title in the dictionary.\n",
    "\"\"\"\n",
    "data_12_14 = data[(data.release_year > 2012) & (\n",
    "    data.release_year <= 2014)]\n",
    "answers['10'] = data_12_14[data_12_14.profit ==\n",
    "                           data_12_14.profit.min()]['original_title'].values[0]"
   ]
  },
  {
   "cell_type": "markdown",
   "metadata": {
    "colab_type": "text",
    "id": "EA7Sa9dkVp_I"
   },
   "source": [
    "# 11. Какого жанра фильмов больше всего?"
   ]
  },
  {
   "cell_type": "code",
   "execution_count": 16,
   "metadata": {},
   "outputs": [
    {
     "data": {
      "text/plain": [
       "[('Drama', 782)]"
      ]
     },
     "execution_count": 16,
     "metadata": {},
     "output_type": "execute_result"
    }
   ],
   "source": [
    "\"\"\"\n",
    "We create a list of all genres and and use Counter to count their frequency.\n",
    "Then find the most frequent one. \n",
    "\"\"\"\n",
    "Counter(data.genres.str.cat(sep='|').split('|')).most_common(1)"
   ]
  },
  {
   "cell_type": "markdown",
   "metadata": {},
   "source": [
    "Вариант 2"
   ]
  },
  {
   "cell_type": "code",
   "execution_count": 17,
   "metadata": {},
   "outputs": [],
   "source": [
    "\"\"\"\n",
    "Or after creating list of all genres, we can convert the list into Series.\n",
    "Then we can use count_values and save the result in the dictionary.\n",
    "\"\"\"\n",
    "answers['11'] = pd.Series(data.genres.str.cat(sep='|').split('|')\n",
    "                          ).value_counts().head(1).index.values[0]"
   ]
  },
  {
   "cell_type": "markdown",
   "metadata": {
    "colab_type": "text",
    "id": "T9_bPWpkVp_Q"
   },
   "source": [
    "# 12. Фильмы какого жанра чаще всего становятся прибыльными? "
   ]
  },
  {
   "cell_type": "code",
   "execution_count": 18,
   "metadata": {
    "colab": {},
    "colab_type": "code",
    "id": "Tmt8MaK1Vp_R"
   },
   "outputs": [
    {
     "data": {
      "text/plain": [
       "[('Drama', 560)]"
      ]
     },
     "execution_count": 18,
     "metadata": {},
     "output_type": "execute_result"
    }
   ],
   "source": [
    "\"\"\"\n",
    "We filter the dataset with the condition that profit is more than 0.\n",
    "And we create the list of all genres in filtered dataset.\n",
    "Than we use Counter and find the most common genre\n",
    "\"\"\"\n",
    "Counter(data[data.profit > 0].genres.str.cat(\n",
    "    sep='|').split('|')).most_common(1)"
   ]
  },
  {
   "cell_type": "markdown",
   "metadata": {},
   "source": [
    "Вариант 2"
   ]
  },
  {
   "cell_type": "code",
   "execution_count": 19,
   "metadata": {},
   "outputs": [],
   "source": [
    "\"\"\"\n",
    "Or we can convert the list into Series. Then count the frequency of the genres.\n",
    "\"\"\"\n",
    "answers['12'] = pd.Series(data[data.profit > 0].genres.str.cat(\n",
    "    sep='|').split('|')).value_counts().head(1).index.values[0]"
   ]
  },
  {
   "cell_type": "markdown",
   "metadata": {
    "colab_type": "text",
    "id": "0F23bgsDVp_U"
   },
   "source": [
    "# 13. У какого режиссера самые большие суммарные кассовые сбооры?"
   ]
  },
  {
   "cell_type": "code",
   "execution_count": 20,
   "metadata": {
    "colab": {},
    "colab_type": "code",
    "id": "K6Z3J8ygVp_X"
   },
   "outputs": [],
   "source": [
    "\"\"\"\n",
    "We create the list of revenue for each director. Then we find the sum of \n",
    "their revenue and create a dictionary of directors and their revenues. \n",
    "And we convert it into Series in order to save the result in our dictionary m\n",
    "\"\"\"\n",
    "directors = {d: sum([d for d in data[data.director.str.contains(d)].revenue])\n",
    "             for d in data.director.str.cat(sep='|').split('|')}\n",
    "answers['13'] = pd.Series(directors).sort_values(\n",
    "    ascending=False).head(1).index.values[0]"
   ]
  },
  {
   "cell_type": "markdown",
   "metadata": {},
   "source": [
    "Вариант 2"
   ]
  },
  {
   "cell_type": "code",
   "execution_count": 21,
   "metadata": {
    "scrolled": true
   },
   "outputs": [
    {
     "data": {
      "text/plain": [
       "director\n",
       "Peter Jackson        6490593685\n",
       "Christopher Nolan    4167548502\n",
       "David Yates          4154295625\n",
       "Michael Bay          3886938960\n",
       "J.J. Abrams          3579169916\n",
       "                        ...    \n",
       "David MichÃ´d           2295423\n",
       "Steven Shainberg        2281089\n",
       "Paul Schrader           2062066\n",
       "Keanu Reeves            2054941\n",
       "Simon Hunter            2033165\n",
       "Name: revenue, Length: 957, dtype: int64"
      ]
     },
     "execution_count": 21,
     "metadata": {},
     "output_type": "execute_result"
    }
   ],
   "source": [
    "\"\"\"\n",
    "Or we can group the dataset by directors and find the sum of their revenue.\n",
    "\"\"\"\n",
    "data.groupby(['director'])['revenue'].sum().sort_values(ascending=False)"
   ]
  },
  {
   "cell_type": "code",
   "execution_count": 22,
   "metadata": {},
   "outputs": [
    {
     "name": "stdout",
     "output_type": "stream",
     "text": [
      "957\n",
      "997\n"
     ]
    }
   ],
   "source": [
    "# But this method is tricky. Let's check.\n",
    "print(len(data.groupby(['director'])['revenue'].sum()))\n",
    "print(len(pd.Series(directors)))"
   ]
  },
  {
   "cell_type": "code",
   "execution_count": 23,
   "metadata": {},
   "outputs": [
    {
     "data": {
      "text/plain": [
       "director\n",
       "Aaron Seltzer|Jason Friedberg      48548426\n",
       "Adam McKay                        859076455\n",
       "Adam Shankman                     873562773\n",
       "Adam Wingard                        2367161\n",
       "Adrian Lyne                       119137784\n",
       "                                    ...    \n",
       "Wong Kar-wai                       21786738\n",
       "Woody Allen                       279220507\n",
       "Xavier Gens                        99965753\n",
       "Zack Snyder                      1602937193\n",
       "Zal Batmanglij                      2401510\n",
       "Name: revenue, Length: 957, dtype: int64"
      ]
     },
     "metadata": {},
     "output_type": "display_data"
    }
   ],
   "source": [
    "\"\"\"\n",
    "They are not equal and the grouped dataset is less, \n",
    "but their answer to our question is the same. As we see in the grouped dataset, \n",
    "there are indexes with several directors.\n",
    "But in our case it doestn't change anything \n",
    "\"\"\"\n",
    "display(data.groupby(['director'])['revenue'].sum())"
   ]
  },
  {
   "cell_type": "markdown",
   "metadata": {
    "colab_type": "text",
    "id": "PsYC9FgRVp_a"
   },
   "source": [
    "# 14. Какой режисер снял больше всего фильмов в стиле Action?"
   ]
  },
  {
   "cell_type": "code",
   "execution_count": 24,
   "metadata": {
    "colab": {},
    "colab_type": "code",
    "id": "wd2M-wHeVp_b"
   },
   "outputs": [
    {
     "data": {
      "text/plain": [
       "Robert Rodriguez      9\n",
       "Michael Bay           7\n",
       "Paul W.S. Anderson    7\n",
       "Antoine Fuqua         6\n",
       "Ridley Scott          6\n",
       "                     ..\n",
       "Chris Wedge           0\n",
       "Jay Duplass           0\n",
       "Mark Duplass          0\n",
       "Rodrigo GarcÃ­a       0\n",
       "Peter Bogdanovich     0\n",
       "Length: 997, dtype: int64"
      ]
     },
     "execution_count": 24,
     "metadata": {},
     "output_type": "execute_result"
    }
   ],
   "source": [
    "\"\"\"\n",
    "We create a list of directors. Then creat a list for each director with the Action film.\n",
    "And we find the length of the list, then create a dictionary of directors \n",
    "and the amount of action films that they have. \n",
    "And we convert it into Series to sort the values\n",
    "\"\"\"\n",
    "directors = data.director.str.cat(sep='|').split('|')\n",
    "action_directors = {d: len([g for g in data[data.director.str.contains(\n",
    "    d)].genres.str.cat(sep='|').split('|') if g == 'Action']) for d in directors}\n",
    "pd.Series(action_directors).sort_values(ascending=False)"
   ]
  },
  {
   "cell_type": "markdown",
   "metadata": {},
   "source": [
    "Вариант 2 "
   ]
  },
  {
   "cell_type": "code",
   "execution_count": 25,
   "metadata": {},
   "outputs": [
    {
     "data": {
      "text/plain": [
       "[('Robert Rodriguez', 9)]"
      ]
     },
     "execution_count": 25,
     "metadata": {},
     "output_type": "execute_result"
    }
   ],
   "source": [
    "\"\"\"\n",
    "Or we can create a list of all directors with Action films.\n",
    "And use Counter to count their frequecy.\"\"\"\n",
    "action_directors = Counter(data[data.genres.str.contains(\n",
    "    'Action')].director.str.cat(sep='|').split('|'))\n",
    "action_directors.most_common(1)"
   ]
  },
  {
   "cell_type": "markdown",
   "metadata": {},
   "source": [
    "Вариант 0"
   ]
  },
  {
   "cell_type": "code",
   "execution_count": 26,
   "metadata": {},
   "outputs": [
    {
     "data": {
      "text/plain": [
       "Paul W.S. Anderson    7\n",
       "Michael Bay           7\n",
       "Ridley Scott          6\n",
       "Robert Rodriguez      6\n",
       "Antoine Fuqua         6\n",
       "                     ..\n",
       "Philip Kaufman        1\n",
       "Scott Stewart         1\n",
       "David Leland          1\n",
       "Brian Helgeland       1\n",
       "David Koepp           1\n",
       "Name: director, Length: 345, dtype: int64"
      ]
     },
     "execution_count": 26,
     "metadata": {},
     "output_type": "execute_result"
    }
   ],
   "source": [
    "\"\"\"\n",
    "We could've just used value_counts, but as we see it gives the wring results,\n",
    "because director column in our dataset can contain more than one value.\n",
    "\"\"\"\n",
    "data[data.genres.str.contains('Action')].director.value_counts()"
   ]
  },
  {
   "cell_type": "code",
   "execution_count": 27,
   "metadata": {},
   "outputs": [],
   "source": [
    "answers['14'] = 'Robert Rodriquez'"
   ]
  },
  {
   "cell_type": "markdown",
   "metadata": {
    "colab_type": "text",
    "id": "PQ0KciD7Vp_f"
   },
   "source": [
    "# 15. Фильмы с каким актером принесли самые высокие кассовые сборы в 2012 году? "
   ]
  },
  {
   "cell_type": "code",
   "execution_count": 28,
   "metadata": {
    "scrolled": true
   },
   "outputs": [],
   "source": [
    "\"\"\"\n",
    "First filter the dataset with the condition that release year is 2012,\n",
    "save it in the new varible and create a list of all actors in this dataset.\n",
    "Then we create a dictionary with actors and the sum of the revenue of their films.\n",
    "\"\"\"\n",
    "data_2012 = data[data.release_year == 2012]\n",
    "cast = data_2012.cast.str.cat(sep='|').split('|')\n",
    "dict_actors = {\n",
    "    x: sum(data_2012[data_2012.cast.str.contains(x)].revenue)for x in cast}\n",
    "answers['15'] = pd.Series(dict_actors).sort_values(\n",
    "    ascending=False).head(1).index.values[0]"
   ]
  },
  {
   "cell_type": "markdown",
   "metadata": {
    "colab_type": "text",
    "id": "mWHyyL7QVp_j"
   },
   "source": [
    "# 16. Какой актер снялся в большем количестве высокобюджетных фильмов?"
   ]
  },
  {
   "cell_type": "code",
   "execution_count": 29,
   "metadata": {
    "scrolled": true
   },
   "outputs": [
    {
     "data": {
      "text/plain": [
       "[('Matt Damon', 18)]"
      ]
     },
     "execution_count": 29,
     "metadata": {},
     "output_type": "execute_result"
    }
   ],
   "source": [
    "\"\"\"\n",
    "We create a new dataframe by filtering the dataset according to the condition \n",
    "that their budget is higher than the mean budget.\n",
    "Then we create a list of actors of new dataframe and use Counter.\n",
    "\"\"\"\n",
    "high_budget_films = data[data.budget > data.budget.mean()]\n",
    "Counter(high_budget_films.cast.str.cat(sep='|').split('|')).most_common(1)"
   ]
  },
  {
   "cell_type": "markdown",
   "metadata": {},
   "source": [
    "Вариант 2"
   ]
  },
  {
   "cell_type": "code",
   "execution_count": 30,
   "metadata": {},
   "outputs": [
    {
     "data": {
      "text/plain": [
       "Matt Damon           18\n",
       "Adam Sandler         17\n",
       "Angelina Jolie       16\n",
       "Tom Cruise           15\n",
       "Samuel L. Jackson    15\n",
       "                     ..\n",
       "David Burrows         1\n",
       "Alessandro Nivola     1\n",
       "Ryan Gosling          1\n",
       "Jonathan Groff        1\n",
       "Vanessa Ferlito       1\n",
       "Length: 1505, dtype: int64"
      ]
     },
     "execution_count": 30,
     "metadata": {},
     "output_type": "execute_result"
    }
   ],
   "source": [
    "\"\"\"\n",
    "Or we can convert the list of actors into series and use value_counts\n",
    "\"\"\"\n",
    "pd.Series(high_budget_films.cast.str.cat(sep='|').split('|')).value_counts()"
   ]
  },
  {
   "cell_type": "code",
   "execution_count": 31,
   "metadata": {},
   "outputs": [],
   "source": [
    "answers['16'] = 'Matt Damon'"
   ]
  },
  {
   "cell_type": "markdown",
   "metadata": {
    "colab_type": "text",
    "id": "NIh6AaW5Vp_n"
   },
   "source": [
    "# 17. В фильмах какого жанра больше всего снимался Nicolas Cage? "
   ]
  },
  {
   "cell_type": "code",
   "execution_count": 32,
   "metadata": {
    "colab": {},
    "colab_type": "code",
    "id": "H74SJDIBVp_n",
    "scrolled": false
   },
   "outputs": [
    {
     "data": {
      "text/plain": [
       "[('Action', 17)]"
      ]
     },
     "execution_count": 32,
     "metadata": {},
     "output_type": "execute_result"
    }
   ],
   "source": [
    "\"\"\"\n",
    "We create a list of genres of Nicolas Cage's films.\n",
    "And use Counter to create a dictionary of genres and their frequency.\n",
    "\"\"\"\n",
    "Cage_genres = Counter(data[data.cast.str.contains(\n",
    "    'Nicolas Cage')].genres.str.cat(sep='|').split('|'))\n",
    "Cage_genres.most_common(1)"
   ]
  },
  {
   "cell_type": "markdown",
   "metadata": {},
   "source": [
    "Вариант 2"
   ]
  },
  {
   "cell_type": "code",
   "execution_count": 33,
   "metadata": {
    "scrolled": true
   },
   "outputs": [
    {
     "data": {
      "text/plain": [
       "Action             17\n",
       "Thriller           15\n",
       "Drama              12\n",
       "Crime              10\n",
       "Fantasy             8\n",
       "Adventure           7\n",
       "Comedy              6\n",
       "Science Fiction     4\n",
       "Family              3\n",
       "Mystery             3\n",
       "Animation           3\n",
       "History             2\n",
       "Horror              1\n",
       "Romance             1\n",
       "War                 1\n",
       "dtype: int64"
      ]
     },
     "execution_count": 33,
     "metadata": {},
     "output_type": "execute_result"
    }
   ],
   "source": [
    "\"\"\"\n",
    "Or AGAIN we can convert the list into Series\n",
    "\"\"\"\n",
    "pd.Series((data[data.cast.str.contains('Nicolas Cage')].genres.str.cat(\n",
    "    sep='|').split('|'))).value_counts()"
   ]
  },
  {
   "cell_type": "code",
   "execution_count": 34,
   "metadata": {},
   "outputs": [],
   "source": [
    "answers['17'] = 'Action'"
   ]
  },
  {
   "cell_type": "markdown",
   "metadata": {
    "colab_type": "text",
    "id": "RqOmPRfWVp_q"
   },
   "source": [
    "# 18. Самый убыточный фильм от Paramount Pictures"
   ]
  },
  {
   "cell_type": "code",
   "execution_count": 35,
   "metadata": {
    "colab": {},
    "colab_type": "code",
    "id": "9E_B0Y96Vp_r"
   },
   "outputs": [],
   "source": [
    "\"\"\"\n",
    "We create a new dataframe with the films of Paramount Pictures.\n",
    "And filter new dataframe according to the condition that profit is minimum\n",
    "\"\"\"\n",
    "paramount_films = data[data.production_companies.str.contains(\n",
    "    'Paramount Pictures')]\n",
    "answers['18'] = paramount_films[paramount_films.profit ==\n",
    "                                paramount_films.profit.min()].original_title.values[0]"
   ]
  },
  {
   "cell_type": "markdown",
   "metadata": {},
   "source": [
    "Вариант 2"
   ]
  },
  {
   "cell_type": "code",
   "execution_count": 36,
   "metadata": {},
   "outputs": [
    {
     "data": {
      "text/plain": [
       "925    K-19: The Widowmaker\n",
       "Name: original_title, dtype: object"
      ]
     },
     "execution_count": 36,
     "metadata": {},
     "output_type": "execute_result"
    }
   ],
   "source": [
    "\"\"\"\n",
    "Or we can use a lambda function to find the films with Paramount Pictures.\n",
    "\"\"\"\n",
    "paramount_films_2 = data[data.production_companies.map(\n",
    "    lambda x:  True if 'Paramount Pictures' in x else False)]\n",
    "paramount_films_2[paramount_films_2.profit ==\n",
    "                  paramount_films_2.profit.min()].original_title"
   ]
  },
  {
   "cell_type": "markdown",
   "metadata": {
    "colab_type": "text",
    "id": "vS8Ur6ddVp_u"
   },
   "source": [
    "# 19. Какой год стал самым успешным по суммарным кассовым сборам?"
   ]
  },
  {
   "cell_type": "code",
   "execution_count": 37,
   "metadata": {
    "colab": {},
    "colab_type": "code",
    "id": "Dnbt4GdIVp_v"
   },
   "outputs": [
    {
     "data": {
      "text/plain": [
       "2015    25449202382\n",
       "2014    23405862953\n",
       "2013    23213799791\n",
       "2012    23079001687\n",
       "2011    22676791872\n",
       "2010    21071204961\n",
       "2009    20261791024\n",
       "2008    18252781990\n",
       "2007    18162406801\n",
       "2004    15663430720\n",
       "2005    15309425558\n",
       "2006    14775042320\n",
       "2003    14346123312\n",
       "2002    14136361487\n",
       "2001    13017764865\n",
       "2000    10664099805\n",
       "dtype: int64"
      ]
     },
     "execution_count": 37,
     "metadata": {},
     "output_type": "execute_result"
    }
   ],
   "source": [
    "\"\"\"\n",
    "We create a list of revenue for each year and find the sum of it.\n",
    "Then we make a dictionary of years and sum value of  their revenue. \n",
    "And we convert it to Series to sort the values\n",
    "\"\"\"\n",
    "all_years_revenue = {\n",
    "    x: sum(data[data.release_year == x].revenue) for x in data.release_year}\n",
    "pd.Series(all_years_revenue).sort_values(ascending=False)"
   ]
  },
  {
   "cell_type": "markdown",
   "metadata": {},
   "source": [
    "Вариант 2"
   ]
  },
  {
   "cell_type": "code",
   "execution_count": 38,
   "metadata": {
    "scrolled": true
   },
   "outputs": [
    {
     "data": {
      "text/plain": [
       "release_year\n",
       "2015    25449202382\n",
       "2014    23405862953\n",
       "2013    23213799791\n",
       "2012    23079001687\n",
       "2011    22676791872\n",
       "2010    21071204961\n",
       "2009    20261791024\n",
       "2008    18252781990\n",
       "2007    18162406801\n",
       "2004    15663430720\n",
       "2005    15309425558\n",
       "2006    14775042320\n",
       "2003    14346123312\n",
       "2002    14136361487\n",
       "2001    13017764865\n",
       "2000    10664099805\n",
       "Name: revenue, dtype: int64"
      ]
     },
     "execution_count": 38,
     "metadata": {},
     "output_type": "execute_result"
    }
   ],
   "source": [
    "\"\"\"\n",
    "Or we can group the dataset by realease year.\n",
    "And find the sum of their revenues.\n",
    "\"\"\"\n",
    "data.groupby(['release_year']).revenue.sum().sort_values(ascending=False)"
   ]
  },
  {
   "cell_type": "code",
   "execution_count": 39,
   "metadata": {},
   "outputs": [],
   "source": [
    "answers['19'] = 2015"
   ]
  },
  {
   "cell_type": "markdown",
   "metadata": {
    "colab_type": "text",
    "id": "JAzJh4QAVp_z"
   },
   "source": [
    "# 20. Какой самый прибыльный год для студии Warner Bros?"
   ]
  },
  {
   "cell_type": "code",
   "execution_count": 40,
   "metadata": {
    "colab": {},
    "colab_type": "code",
    "id": "wgVu02DEVp_0",
    "scrolled": true
   },
   "outputs": [
    {
     "data": {
      "text/plain": [
       "2014    2295464519\n",
       "2007    2201675217\n",
       "2008    2134595031\n",
       "2010    1974712985\n",
       "2011    1871393682\n",
       "2003    1855493377\n",
       "2009    1822454136\n",
       "2013    1636453400\n",
       "2004    1631933725\n",
       "2005    1551980298\n",
       "2001    1343545668\n",
       "2012    1258020056\n",
       "2002    1022709901\n",
       "2015     870368348\n",
       "2006     620170743\n",
       "2000     452631386\n",
       "dtype: int64"
      ]
     },
     "execution_count": 40,
     "metadata": {},
     "output_type": "execute_result"
    }
   ],
   "source": [
    "\"\"\"\n",
    "We create a new dataframe wiht Warner Bros films.\n",
    "And create a list of profit for each year, find the sum of them \n",
    "then make a dictionary of years and sum of their profit.\n",
    "Then just convert the dictionary into Series to sort it by profit.\n",
    "\"\"\"\n",
    "warners_films = data[data.production_companies.str.contains('Warner Bros')]\n",
    "all_years_profit = {\n",
    "    x: sum(warners_films[warners_films.release_year == x].profit)for x in warners_films.release_year}\n",
    "pd.Series(all_years_profit).sort_values(ascending=False)"
   ]
  },
  {
   "cell_type": "markdown",
   "metadata": {},
   "source": [
    "Вариант 2"
   ]
  },
  {
   "cell_type": "code",
   "execution_count": 41,
   "metadata": {
    "scrolled": true
   },
   "outputs": [
    {
     "data": {
      "text/plain": [
       "release_year\n",
       "2014    2295464519\n",
       "2007    2201675217\n",
       "2008    2134595031\n",
       "2010    1974712985\n",
       "2011    1871393682\n",
       "2003    1855493377\n",
       "2009    1822454136\n",
       "2013    1636453400\n",
       "2004    1631933725\n",
       "2005    1551980298\n",
       "2001    1343545668\n",
       "2012    1258020056\n",
       "2002    1022709901\n",
       "2015     870368348\n",
       "2006     620170743\n",
       "2000     452631386\n",
       "Name: profit, dtype: int64"
      ]
     },
     "execution_count": 41,
     "metadata": {},
     "output_type": "execute_result"
    }
   ],
   "source": [
    "\"\"\"\n",
    "Or we can group the new dataframe by release year.\n",
    "And find the sum of profit.\n",
    "\"\"\"\n",
    "warners_films.groupby(\n",
    "    ['release_year']).profit.sum().sort_values(ascending=False)"
   ]
  },
  {
   "cell_type": "code",
   "execution_count": 42,
   "metadata": {},
   "outputs": [],
   "source": [
    "answers['20'] = 2014"
   ]
  },
  {
   "cell_type": "markdown",
   "metadata": {
    "colab_type": "text",
    "id": "8Im1S2HRVp_4"
   },
   "source": [
    "# 21. В каком месяце за все годы суммарно вышло больше всего фильмов?"
   ]
  },
  {
   "cell_type": "code",
   "execution_count": 43,
   "metadata": {
    "colab": {},
    "colab_type": "code",
    "id": "lev6TH7gVp_4"
   },
   "outputs": [
    {
     "data": {
      "text/plain": [
       "September    227\n",
       "December     190\n",
       "October      186\n",
       "August       161\n",
       "March        156\n",
       "April        149\n",
       "June         147\n",
       "November     146\n",
       "July         142\n",
       "May          140\n",
       "February     135\n",
       "January      110\n",
       "dtype: int64"
      ]
     },
     "execution_count": 43,
     "metadata": {},
     "output_type": "execute_result"
    }
   ],
   "source": [
    "\"\"\"\n",
    "We make the list of all months.\n",
    "And then make the list of frequency for each month.\n",
    "And create a dictionary of months\n",
    "\"\"\"\n",
    "months = [m.strftime('%B') for m in data.release_date]\n",
    "films_by_months = {\n",
    "    m: len([x for x in data.release_date if x.strftime('%B') == m]) for m in months}\n",
    "pd.Series(films_by_months).sort_values(ascending=False)\n",
    "# it was my first attempt, now I can see that creating a dictionary wasn't efficient"
   ]
  },
  {
   "cell_type": "markdown",
   "metadata": {},
   "source": [
    "Вариант 2 "
   ]
  },
  {
   "cell_type": "code",
   "execution_count": 44,
   "metadata": {},
   "outputs": [
    {
     "data": {
      "text/plain": [
       "Counter({'June': 147,\n",
       "         'May': 140,\n",
       "         'March': 156,\n",
       "         'December': 190,\n",
       "         'April': 149,\n",
       "         'September': 227,\n",
       "         'October': 186,\n",
       "         'February': 135,\n",
       "         'January': 110,\n",
       "         'July': 142,\n",
       "         'November': 146,\n",
       "         'August': 161})"
      ]
     },
     "execution_count": 44,
     "metadata": {},
     "output_type": "execute_result"
    }
   ],
   "source": [
    "\"\"\"\n",
    "Or we can just use Counter\n",
    "\"\"\"\n",
    "answers['21'] = 'September'\n",
    "Counter(months)"
   ]
  },
  {
   "cell_type": "markdown",
   "metadata": {},
   "source": [
    "Вариант 3"
   ]
  },
  {
   "cell_type": "code",
   "execution_count": 45,
   "metadata": {},
   "outputs": [
    {
     "data": {
      "text/plain": [
       "September    227\n",
       "December     190\n",
       "October      186\n",
       "August       161\n",
       "March        156\n",
       "April        149\n",
       "June         147\n",
       "November     146\n",
       "July         142\n",
       "May          140\n",
       "February     135\n",
       "January      110\n",
       "Name: release_month, dtype: int64"
      ]
     },
     "execution_count": 45,
     "metadata": {},
     "output_type": "execute_result"
    }
   ],
   "source": [
    "\"\"\"\n",
    "Also we can create a column with months, \n",
    "which I did in the preprocessing cell above\n",
    "\"\"\"\n",
    "data.release_month.value_counts()"
   ]
  },
  {
   "cell_type": "markdown",
   "metadata": {
    "colab_type": "text",
    "id": "uAJsZ_NeVp_7"
   },
   "source": [
    "# 22. Сколько суммарно вышло фильмов летом? (за июнь, июль, август)"
   ]
  },
  {
   "cell_type": "code",
   "execution_count": 46,
   "metadata": {
    "colab": {},
    "colab_type": "code",
    "id": "Aa-hEREoVp_8"
   },
   "outputs": [],
   "source": [
    "\"\"\"\n",
    "We create a list of all summer months in dataset.\n",
    "And find the length of the list.\n",
    "\"\"\"\n",
    "answers['22'] = len(\n",
    "    [m for m in data.release_month if m in ['June', 'July', 'August']])"
   ]
  },
  {
   "cell_type": "markdown",
   "metadata": {
    "colab_type": "text",
    "id": "G94ppOY1VqAA"
   },
   "source": [
    "# 23. Для какого режиссера зима – самое продуктивное время года? "
   ]
  },
  {
   "cell_type": "code",
   "execution_count": 47,
   "metadata": {
    "colab": {},
    "colab_type": "code",
    "id": "RhNTsamuVqAB",
    "scrolled": true
   },
   "outputs": [
    {
     "data": {
      "text/plain": [
       "Peter Jackson        7\n",
       "Steven Soderbergh    6\n",
       "Clint Eastwood       6\n",
       "Nancy Meyers         4\n",
       "Shawn Levy           4\n",
       "                    ..\n",
       "David Cronenberg     0\n",
       "Douglas McGrath      0\n",
       "Jason Winer          0\n",
       "Michael Dowse        0\n",
       "Colin Trevorrow      0\n",
       "Length: 997, dtype: int64"
      ]
     },
     "execution_count": 47,
     "metadata": {},
     "output_type": "execute_result"
    }
   ],
   "source": [
    "\"\"\"\n",
    "We create list of film releasing winter months for each director.\n",
    "and then create a dictionary of directors\"\"\"\n",
    "winter_directors = {d: len([m for m in data[data.director.str.contains(\n",
    "    d)].release_month if m in ['December', 'January', 'February']]) for d in data.director.str.cat(sep='|').split('|')}\n",
    "pd.Series(winter_directors).sort_values(ascending=False)"
   ]
  },
  {
   "cell_type": "markdown",
   "metadata": {},
   "source": [
    "Вариант 2"
   ]
  },
  {
   "cell_type": "code",
   "execution_count": 48,
   "metadata": {},
   "outputs": [
    {
     "data": {
      "text/plain": [
       "Peter Jackson          7\n",
       "Clint Eastwood         6\n",
       "Steven Soderbergh      6\n",
       "Adam Shankman          4\n",
       "Nancy Meyers           4\n",
       "                      ..\n",
       "Guy Ferland            1\n",
       "Brad Silberling        1\n",
       "Jeff Schaffer          1\n",
       "Christopher Spencer    1\n",
       "Thor Freudenthal       1\n",
       "Name: director, Length: 332, dtype: int64"
      ]
     },
     "execution_count": 48,
     "metadata": {},
     "output_type": "execute_result"
    }
   ],
   "source": [
    "\"\"\"\n",
    "Or we can filter the dataset with winter months.\n",
    "And count the frequeny of each director.\n",
    "\"\"\"\n",
    "answers['23'] = 'Peter Jackson'\n",
    "data[(data.release_month == 'December') | (data.release_month ==\n",
    "                                           'January') | (data.release_month == 'February')].director.value_counts()"
   ]
  },
  {
   "cell_type": "markdown",
   "metadata": {
    "colab_type": "text",
    "id": "RBo0JVjVVqAF"
   },
   "source": [
    "\n",
    "# 24. Какая студия дает самые длинные названия своим фильмам по количеству символов?\n",
    "\n",
    "  "
   ]
  },
  {
   "cell_type": "code",
   "execution_count": 49,
   "metadata": {},
   "outputs": [
    {
     "data": {
      "text/plain": [
       "Four By Two Productions       83.0\n",
       "Jim Henson Company, The       59.0\n",
       "Dos Corazones                 47.0\n",
       "Museum Canada Productions     46.0\n",
       "Polsky Films                  46.0\n",
       "                              ... \n",
       "Berlanti Productions           3.0\n",
       "Everest Entertainment          3.0\n",
       "Global Entertainment Group     2.0\n",
       "Ixtlan Productions             2.0\n",
       "XM2 Productions                2.0\n",
       "Length: 1771, dtype: float64"
      ]
     },
     "execution_count": 49,
     "metadata": {},
     "output_type": "execute_result"
    }
   ],
   "source": [
    "\"\"\"\n",
    "We make a list of companies. Then make a list of length of the titles of their films \n",
    "and find the mean value for each company. And create a dictionary out of it.\n",
    "\"\"\"\n",
    "companies = data.production_companies.str.cat(sep='|').split('|')\n",
    "dict_of_companies = {c: mean_counter([len(x) for x in data[data.production_companies.map(\n",
    "    lambda y:  True if c in y else False)].original_title.str.cat(sep='|').split('|')]) for c in companies}\n",
    "pd.Series(dict_of_companies).sort_values(ascending=False)"
   ]
  },
  {
   "cell_type": "markdown",
   "metadata": {},
   "source": [
    "Вариант 2"
   ]
  },
  {
   "cell_type": "code",
   "execution_count": 50,
   "metadata": {},
   "outputs": [
    {
     "data": {
      "text/plain": [
       "Four By Two Productions       83.0\n",
       "Jim Henson Company, The       59.0\n",
       "Dos Corazones                 47.0\n",
       "Museum Canada Productions     46.0\n",
       "Polsky Films                  46.0\n",
       "                              ... \n",
       "Berlanti Productions           3.0\n",
       "Everest Entertainment          3.0\n",
       "Global Entertainment Group     2.0\n",
       "Ixtlan Productions             2.0\n",
       "XM2 Productions                2.0\n",
       "Length: 1771, dtype: float64"
      ]
     },
     "execution_count": 50,
     "metadata": {},
     "output_type": "execute_result"
    }
   ],
   "source": [
    "\"\"\"\n",
    "Or we can create a new column of title length(preprocessing cell) in order to shorten the code\n",
    "\"\"\"\n",
    "companies = data.production_companies.str.cat(sep='|').split('|')\n",
    "dict_of_companies_2 = {c: mean_counter([x for x in data[data.production_companies.map(\n",
    "    lambda y:  True if c in y else False)].title_length]) for c in companies}\n",
    "pd.Series(dict_of_companies).sort_values(ascending=False)"
   ]
  },
  {
   "cell_type": "code",
   "execution_count": 51,
   "metadata": {},
   "outputs": [],
   "source": [
    "answers['24'] = 'Four By Two Productions'"
   ]
  },
  {
   "cell_type": "markdown",
   "metadata": {
    "colab_type": "text",
    "id": "9G0hbvR7VqAK"
   },
   "source": [
    "# 25. Описание фильмов какой студии в среднем самые длинные по количеству слов?"
   ]
  },
  {
   "cell_type": "code",
   "execution_count": 52,
   "metadata": {
    "colab": {},
    "colab_type": "code",
    "id": "Ge2GsLNxVqAK"
   },
   "outputs": [
    {
     "data": {
      "text/plain": [
       "Midnight Picture Show                    1000.0\n",
       "Room 9 Entertainment                      964.0\n",
       "Brookwell-McNamara Entertainment          936.0\n",
       "Lions Gate Family Entertainment           909.0\n",
       "Crest Animation Productions               909.0\n",
       "                                          ...  \n",
       "Henceforth                                 74.0\n",
       "Projection Pictures                        74.0\n",
       "Phantom Four                               72.0\n",
       "Empire Pictures                            62.0\n",
       "Motion Picture Corporation of America      59.0\n",
       "Length: 1771, dtype: float64"
      ]
     },
     "execution_count": 52,
     "metadata": {},
     "output_type": "execute_result"
    }
   ],
   "source": [
    "\"\"\"\n",
    "We create list of length of their overviews for each company and find the mean value of it.\n",
    "And make a dictionary of companues with the mean length of overview.\n",
    "Then turn it inro Series to sort the values and find the max\n",
    "\"\"\"\n",
    "overviews = {c: mean_counter([len(x) for x in data[data.production_companies.map(\n",
    "    lambda y: True if c in y else False)].overview.str.cat(sep='|').split('|')]) for c in companies}\n",
    "pd.Series(overviews).sort_values(ascending=False)"
   ]
  },
  {
   "cell_type": "code",
   "execution_count": 53,
   "metadata": {},
   "outputs": [],
   "source": [
    "answers['25'] = 'Midnight Picture Show'"
   ]
  },
  {
   "cell_type": "markdown",
   "metadata": {
    "colab_type": "text",
    "id": "FJ1AFt90VqAP"
   },
   "source": [
    "\n",
    "# 26. Какие фильмы входят в 1 процент лучших по рейтингу? \n",
    "по vote_average"
   ]
  },
  {
   "cell_type": "code",
   "execution_count": 54,
   "metadata": {
    "colab": {},
    "colab_type": "code",
    "id": "8qmJVq4CVqAQ",
    "scrolled": true
   },
   "outputs": [
    {
     "data": {
      "text/plain": [
       "['The Dark Knight',\n",
       " 'Interstellar',\n",
       " 'The Imitation Game',\n",
       " 'Inside Out',\n",
       " 'Room',\n",
       " 'The Wolf of Wall Street',\n",
       " 'Gone Girl',\n",
       " '12 Years a Slave',\n",
       " 'Guardians of the Galaxy',\n",
       " 'The Lord of the Rings: The Return of the King',\n",
       " 'Memento',\n",
       " 'Inception',\n",
       " 'The Pianist',\n",
       " 'The Grand Budapest Hotel',\n",
       " 'Her',\n",
       " 'Spotlight',\n",
       " 'Big Hero 6',\n",
       " 'The Fault in Our Stars']"
      ]
     },
     "execution_count": 54,
     "metadata": {},
     "output_type": "execute_result"
    }
   ],
   "source": [
    "\"\"\"\n",
    "We sort the dataset by vote and then find the head 1 percent of it. \n",
    "And create a list of original titles of dataset\n",
    "\"\"\"\n",
    "list(data.sort_values(by='vote_average', ascending=False).head(\n",
    "    int(len(data)*0.01))['original_title'].values)"
   ]
  },
  {
   "cell_type": "code",
   "execution_count": 55,
   "metadata": {},
   "outputs": [],
   "source": [
    "# It is the variant of the question on the platform\n",
    "answers['26'] = ['The Dark Knight', 'Inside Out', '12 Years a Slave']"
   ]
  },
  {
   "cell_type": "markdown",
   "metadata": {
    "colab_type": "text",
    "id": "MdXsUXbCVqAV"
   },
   "source": [
    "# 27. Какие актеры чаще всего снимаются в одном фильме вместе?\n"
   ]
  },
  {
   "cell_type": "code",
   "execution_count": 56,
   "metadata": {
    "scrolled": false
   },
   "outputs": [
    {
     "data": {
      "text/plain": [
       "Daniel Radcliffe  Emma Watson             8\n",
       "                  Rupert Grint            8\n",
       "Rupert Grint      Emma Watson             7\n",
       "Johnny Depp       Helena Bonham Carter    6\n",
       "Ben Stiller       Owen Wilson             6\n",
       "                                         ..\n",
       "Emma Stone        Josh Brolin             1\n",
       "Ryan Gosling      Nick Nolte              1\n",
       "                  Josh Brolin             1\n",
       "Sean Penn         Nick Nolte              1\n",
       "Chris Pratt       Bryce Dallas Howard     1\n",
       "Length: 18121, dtype: int64"
      ]
     },
     "execution_count": 56,
     "metadata": {},
     "output_type": "execute_result"
    }
   ],
   "source": [
    "\"\"\"\n",
    "We create dataframe of actors with the column of list of cast.\n",
    "Then we create a column in our new dataframe with different combinations of actors in one cast.\n",
    "And we make the list from that combinations and use counter to count the frequency.\n",
    "Lastly, we turn it into Series to sort the values.\n",
    "\"\"\"\n",
    "actors = pd.DataFrame({'cast': [x.split('|') for x in data.cast]})\n",
    "actors['combinations'] = actors['cast'].apply(\n",
    "    lambda x: list(it.combinations(x, 2)))\n",
    "pd.Series(Counter([pairs for cast in actors['combinations']\n",
    "                   for pairs in cast])).sort_values(ascending=False)"
   ]
  },
  {
   "cell_type": "code",
   "execution_count": 57,
   "metadata": {},
   "outputs": [],
   "source": [
    "answers['27'] = 'Daniel Radcliffe and Rupert Grint or Daniel Radcliffe and Emma Watson'"
   ]
  },
  {
   "cell_type": "markdown",
   "metadata": {
    "colab_type": "text",
    "id": "U0nONFnGVqAX"
   },
   "source": [
    "# Submission"
   ]
  },
  {
   "cell_type": "code",
   "execution_count": 58,
   "metadata": {
    "colab": {},
    "colab_type": "code",
    "id": "IfcaRO9-VqAX",
    "outputId": "0f132912-32bb-4196-c98c-abfbc4ad5a5f"
   },
   "outputs": [
    {
     "data": {
      "text/plain": [
       "{'1': 'Pirates of the Caribbean: On Stranger Tides',\n",
       " '2': 'Gods and Generals',\n",
       " '3': 'Winnie the Pooh',\n",
       " '4': 110.0,\n",
       " '5': 107.0,\n",
       " '6': 'Avatar',\n",
       " '7': 'The Lone Ranger',\n",
       " '8': 1478,\n",
       " '9': 'The Dark Knight',\n",
       " '10': 'The Lone Ranger',\n",
       " '11': 'Drama',\n",
       " '12': 'Drama',\n",
       " '13': 'Peter Jackson',\n",
       " '14': 'Robert Rodriquez',\n",
       " '15': 'Chris Hemsworth',\n",
       " '16': 'Matt Damon',\n",
       " '17': 'Action',\n",
       " '18': 'K-19: The Widowmaker',\n",
       " '19': 2015,\n",
       " '20': 2014,\n",
       " '21': 'September',\n",
       " '22': 450,\n",
       " '23': 'Peter Jackson',\n",
       " '24': 'Four By Two Productions',\n",
       " '25': 'Midnight Picture Show',\n",
       " '26': ['The Dark Knight', 'Inside Out', '12 Years a Slave'],\n",
       " '27': 'Daniel Radcliffe and Rupert Grint or Daniel Radcliffe and Emma Watson'}"
      ]
     },
     "execution_count": 58,
     "metadata": {},
     "output_type": "execute_result"
    }
   ],
   "source": [
    "# в конце можно посмотреть свои ответы к каждому вопросу\n",
    "answers"
   ]
  },
  {
   "cell_type": "code",
   "execution_count": 59,
   "metadata": {
    "colab": {},
    "colab_type": "code",
    "id": "SiRmHPl8VqAd"
   },
   "outputs": [
    {
     "data": {
      "text/plain": [
       "27"
      ]
     },
     "execution_count": 59,
     "metadata": {},
     "output_type": "execute_result"
    }
   ],
   "source": [
    "# и убедиться что ни чего не пропустил)\n",
    "len(answers)"
   ]
  },
  {
   "cell_type": "code",
   "execution_count": null,
   "metadata": {},
   "outputs": [],
   "source": []
  }
 ],
 "metadata": {
  "colab": {
   "name": "Copy of [SF-DST] Movies IMBD v4.1 TEMPLATE.ipynb",
   "provenance": []
  },
  "kernelspec": {
   "display_name": "Python 3",
   "language": "python",
   "name": "python3"
  },
  "language_info": {
   "codemirror_mode": {
    "name": "ipython",
    "version": 3
   },
   "file_extension": ".py",
   "mimetype": "text/x-python",
   "name": "python",
   "nbconvert_exporter": "python",
   "pygments_lexer": "ipython3",
   "version": "3.7.6"
  }
 },
 "nbformat": 4,
 "nbformat_minor": 1
}
